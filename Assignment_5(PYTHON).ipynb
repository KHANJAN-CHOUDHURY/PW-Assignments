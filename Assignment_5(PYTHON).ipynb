{
 "cells": [
  {
   "cell_type": "markdown",
   "id": "6f8f5a59-bc75-4cca-a86f-c4f9416b20a3",
   "metadata": {},
   "source": [
    "## OOPs"
   ]
  },
  {
   "cell_type": "markdown",
   "id": "38716506-42ac-4368-8934-70d8c1cf6c40",
   "metadata": {},
   "source": [
    "## Q1. Explain Class and Object with respect to Object-Oriented Programming. Give a suitable example."
   ]
  },
  {
   "cell_type": "markdown",
   "id": "03db363e-b222-4d98-bb1a-b1723299571f",
   "metadata": {},
   "source": [
    "## Ans:"
   ]
  },
  {
   "cell_type": "markdown",
   "id": "a75785f4-bbc3-4ec6-8b6c-f7b040a5c618",
   "metadata": {},
   "source": [
    "Class: In object-oriented programming (OOP), a class is a blueprint or a template for creating objects. It defines a set of attributes (properties) and methods (functions) that the objects created from the class will have. In essence, a class provides the structure and behavior that its objects will exhibit."
   ]
  },
  {
   "cell_type": "markdown",
   "id": "ee053ab8-e080-4108-b846-f95aac256810",
   "metadata": {},
   "source": [
    "Object: In object-oriented programming (OOP), an object is a concrete instance of a class. It's a tangible entity that is created based on the blueprint provided by a class. An object has both data (attributes) and the methods (functions) associated with the class, allowing it to represent and perform actions related to a specific entity in the real world or in the problem domain you're addressing with your program."
   ]
  },
  {
   "cell_type": "code",
   "execution_count": 4,
   "id": "a2628c8b-d3fe-45ce-9dd2-38905d4a2eb1",
   "metadata": {},
   "outputs": [],
   "source": [
    "# Student class is created below\n",
    "class Student:\n",
    "    def __init__(self, f_name, l_name):\n",
    "        self.f_name = f_name\n",
    "        self.l_name = l_name\n",
    "\n",
    "    def join_name(self):\n",
    "        print(self.f_name+' '+self.l_name)\n",
    "student1 = Student('Khanjan', 'Choudhury') # Object of class Student\n",
    "student2 = Student('Pushpa','Raj') # Object of class Student"
   ]
  },
  {
   "cell_type": "code",
   "execution_count": 6,
   "id": "33e25558-840c-4024-a16e-6120974ecb0d",
   "metadata": {},
   "outputs": [
    {
     "name": "stdout",
     "output_type": "stream",
     "text": [
      "Khanjan Choudhury\n",
      "Pushpa Raj\n"
     ]
    }
   ],
   "source": [
    "student1.join_name()\n",
    "student2.join_name()"
   ]
  },
  {
   "cell_type": "markdown",
   "id": "0fbfa2ef-fa82-49f6-ba76-086ee270ffaf",
   "metadata": {},
   "source": [
    "## Q2. Name the four pillars of OOPs."
   ]
  },
  {
   "cell_type": "markdown",
   "id": "885c24cd-4716-4ed0-bcc0-d4a691326c23",
   "metadata": {},
   "source": [
    "## Ans:\n",
    "The four pillars of OOPs are:"
   ]
  },
  {
   "cell_type": "markdown",
   "id": "1a0a16c8-bd8f-4acd-9843-adeaa436dffc",
   "metadata": {},
   "source": [
    "1. Encapsulation: \\\n",
    "Encapsulation is the idea of grouping together into a single unit, called a class, the data (attributes) and the methods (functions) that operate on the data. It entails limiting direct access to parts of an object's components in order to manage access to and modification of data as well as to assist prevent unwanted interference. The idea of access levels, such as public, private, and protected, which control how the internal components of a class may be interacted with from outside, is also made possible by encapsulation.\n",
    "\n",
    "2. Abstraction: \\\n",
    "Abstraction is the process of concentrating on an object's key characteristics while disregarding its minor elements. Abstraction in programming is accomplished via classes and objects. A class offers a blueprint with properties and methods that reflect an actual thing or idea in the real world. By giving a streamlined perspective of things and their relationships, abstraction aids in managing complexity.\n",
    "\n",
    "3. Inheritance: \\\n",
    "A new class (subclass or derived class) can inherit attributes and methods from an existing class (superclass or base class) through the process of inheritance. It encourages the development of hierarchical links between classes and the reuse of code. The subclass can also add its own particular features and methods in addition to inheriting the traits of the superclass.\n",
    "\n",
    "4. Polymorphism: \\\n",
    "The ability of several classes to be considered as instances of a single superclass is referred to as polymorphism. This enables the interchangeability of objects of diverse types via a common interface. Dynamic binding, where the specific method implementation is decided at runtime based on the actual type of the object, is made possible by polymorphism, which increases the code's flexibility and adaptability."
   ]
  },
  {
   "cell_type": "markdown",
   "id": "285eb432-7ebb-4b57-ab38-24dcacd4c389",
   "metadata": {},
   "source": [
    "## Q3. Explain why the '\\_\\_init\\_\\_()' function is used. Give a suitable example."
   ]
  },
  {
   "cell_type": "markdown",
   "id": "08216817-fa86-4e21-8787-c35409f82571",
   "metadata": {},
   "source": [
    "## Ans:"
   ]
  },
  {
   "cell_type": "markdown",
   "id": "4e918e51-856c-4e7e-9e5f-e51c0137286d",
   "metadata": {},
   "source": [
    "The '\\_\\_init\\_\\_()' function, often referred to as the constructor, is a special method in object-oriented programming languages like Python. It's used to initialize the attributes of an object when it is created from a class. The constructor is called automatically when an object is instantiated and allows you to set initial values for the object's attributes. Basically '\\_\\_init\\_\\_()' function is used to give input in a class. For example"
   ]
  },
  {
   "cell_type": "code",
   "execution_count": 7,
   "id": "924370c2-1301-4450-9bac-d35243827551",
   "metadata": {},
   "outputs": [],
   "source": [
    "# Student class is created below\n",
    "class Student:\n",
    "    def __init__(self, f_name, l_name):\n",
    "        self.f_name = f_name\n",
    "        self.l_name = l_name\n",
    "\n",
    "    def join_name(self):\n",
    "        print(self.f_name+' '+self.l_name)\n",
    "student1 = Student('Khanjan', 'Choudhury') # Object of class Student\n",
    "student2 = Student('Pushpa','Raj') # Object of class Student"
   ]
  },
  {
   "cell_type": "code",
   "execution_count": 8,
   "id": "d417d73e-6913-4425-9dd8-95baf74ff282",
   "metadata": {},
   "outputs": [
    {
     "name": "stdout",
     "output_type": "stream",
     "text": [
      "Khanjan Choudhury\n",
      "Pushpa Raj\n"
     ]
    }
   ],
   "source": [
    "student1.join_name()\n",
    "student2.join_name()"
   ]
  },
  {
   "cell_type": "markdown",
   "id": "38d5e71a-65f2-4256-ae4a-70c6d2c149cf",
   "metadata": {},
   "source": [
    "## Q4. Why self is used in OOPs?"
   ]
  },
  {
   "cell_type": "markdown",
   "id": "e2f93a90-7dbe-46a5-aef2-77f12eae091c",
   "metadata": {},
   "source": [
    "## Ans:"
   ]
  },
  {
   "cell_type": "markdown",
   "id": "fe22325b-d2b4-4dac-a1d6-09bf3ce60691",
   "metadata": {},
   "source": [
    "In object-oriented programming (OOP), self is a conventional term used to refer to the instance of the class within the class itself. It's a way for the object to access its own attributes and methods. The use of self is a fundamental concept in many OOP languages."
   ]
  },
  {
   "cell_type": "markdown",
   "id": "e8cf7359-d61e-477e-b376-fd3ebd4ed229",
   "metadata": {},
   "source": [
    "## Q5. What is inheritance? Give an example for each type of inheritance."
   ]
  },
  {
   "cell_type": "markdown",
   "id": "dfdcf72c-06c1-4aca-9533-a57a39627187",
   "metadata": {},
   "source": [
    "## Ans:"
   ]
  },
  {
   "cell_type": "markdown",
   "id": "ea06c07a-ed53-4fba-a910-9384cf4557e3",
   "metadata": {},
   "source": [
    "Inheritance is a fundamental concept in object-oriented programming (OOP) that allows a new class (subclass or derived class) to inherit attributes and methods from an existing class parent class. This promotes code reuse, reduces redundancy, and enables the creation of hierarchical relationships between classes."
   ]
  },
  {
   "cell_type": "markdown",
   "id": "256c2666-45f5-437f-8399-f0a58a0d52dc",
   "metadata": {},
   "source": [
    "There are several types of inheritance:\n",
    "\n",
    "1. Single Inheritance:\\\n",
    "In single inheritance, a class inherits from only one superclass. This is the simplest form of inheritance."
   ]
  },
  {
   "cell_type": "code",
   "execution_count": 9,
   "id": "792fbbb2-7f24-433e-868b-7b004e67d93b",
   "metadata": {},
   "outputs": [
    {
     "name": "stdout",
     "output_type": "stream",
     "text": [
      "Woof!\n"
     ]
    }
   ],
   "source": [
    "class Animal:\n",
    "    def speak(self):\n",
    "        pass\n",
    "\n",
    "class Dog(Animal):\n",
    "    def speak(self): # speak() is inherited from parent class Animal\n",
    "        return \"Woof!\"\n",
    "\n",
    "dog = Dog()\n",
    "print(dog.speak())  # Output: Woof!"
   ]
  },
  {
   "cell_type": "markdown",
   "id": "5868bb8f-0118-429c-a78d-4ff9462c1383",
   "metadata": {},
   "source": [
    "2. Multiple Inheritance: \\\n",
    "In multiple inheritance, a class inherits from more than one superclass. This allows the subclass to inherit attributes and methods from multiple classes."
   ]
  },
  {
   "cell_type": "code",
   "execution_count": 10,
   "id": "b269119a-547c-4810-aaca-c21dd4c06f3c",
   "metadata": {},
   "outputs": [
    {
     "name": "stdout",
     "output_type": "stream",
     "text": [
      "Swimming...\n",
      "Walking...\n"
     ]
    }
   ],
   "source": [
    "class Swimmer:\n",
    "    def swim(self):\n",
    "        return \"Swimming...\"\n",
    "\n",
    "class Walker:\n",
    "    def walk(self):\n",
    "        return \"Walking...\"\n",
    "\n",
    "class Amphibian(Swimmer, Walker):\n",
    "    pass\n",
    "\n",
    "frog = Amphibian()\n",
    "print(frog.swim())  # Output: Swimming...\n",
    "print(frog.walk())  # Output: Walking..."
   ]
  },
  {
   "cell_type": "markdown",
   "id": "1249d33b-8709-46dd-b702-8f940fe638a2",
   "metadata": {},
   "source": [
    "3. Multilevel Inheritance: \\\n",
    "In multilevel inheritance, a class inherits from another class, which in turn inherits from another class. This forms a chain of inheritance."
   ]
  },
  {
   "cell_type": "code",
   "execution_count": 11,
   "id": "4055d3d9-9d20-4b82-924b-d2d402b369ab",
   "metadata": {},
   "outputs": [
    {
     "name": "stdout",
     "output_type": "stream",
     "text": [
      "Engine started.\n",
      "Car is being driven.\n",
      "Electric car is charging.\n"
     ]
    }
   ],
   "source": [
    "class Vehicle:\n",
    "    def start_engine(self):\n",
    "        return \"Engine started.\"\n",
    "\n",
    "class Car(Vehicle):\n",
    "    def drive(self):\n",
    "        return \"Car is being driven.\"\n",
    "\n",
    "class ElectricCar(Car):\n",
    "    def charge(self):\n",
    "        return \"Electric car is charging.\"\n",
    "\n",
    "electric_car = ElectricCar()\n",
    "print(electric_car.start_engine())  # Output: Engine started.\n",
    "print(electric_car.drive())         # Output: Car is being driven.\n",
    "print(electric_car.charge())        # Output: Electric car is charging."
   ]
  },
  {
   "cell_type": "markdown",
   "id": "3d29c3fe-9435-4801-9e65-777c5805f649",
   "metadata": {},
   "source": [
    "4. Hierarchical Inheritance: \\\n",
    "In hierarchical inheritance, multiple subclasses inherit from a single superclass."
   ]
  },
  {
   "cell_type": "code",
   "execution_count": 12,
   "id": "7edfda75-7d37-4c7c-b6e2-605990601c53",
   "metadata": {},
   "outputs": [
    {
     "name": "stdout",
     "output_type": "stream",
     "text": [
      "78.5\n",
      "16\n"
     ]
    }
   ],
   "source": [
    "class Shape:\n",
    "    def area(self):\n",
    "        pass\n",
    "\n",
    "class Circle(Shape):\n",
    "    def area(self, radius):\n",
    "        return 3.14 * radius * radius\n",
    "\n",
    "class Square(Shape):\n",
    "    def area(self, side):\n",
    "        return side * side\n",
    "\n",
    "circle = Circle()\n",
    "square = Square()\n",
    "\n",
    "print(circle.area(5))  # Output: 78.5\n",
    "print(square.area(4))  # Output: 16"
   ]
  },
  {
   "cell_type": "code",
   "execution_count": null,
   "id": "382ada56-fe6f-4802-9617-9721804d55f1",
   "metadata": {},
   "outputs": [],
   "source": [
    "5."
   ]
  }
 ],
 "metadata": {
  "kernelspec": {
   "display_name": "Python 3 (ipykernel)",
   "language": "python",
   "name": "python3"
  },
  "language_info": {
   "codemirror_mode": {
    "name": "ipython",
    "version": 3
   },
   "file_extension": ".py",
   "mimetype": "text/x-python",
   "name": "python",
   "nbconvert_exporter": "python",
   "pygments_lexer": "ipython3",
   "version": "3.10.8"
  }
 },
 "nbformat": 4,
 "nbformat_minor": 5
}
