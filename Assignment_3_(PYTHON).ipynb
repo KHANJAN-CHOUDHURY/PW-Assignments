{
 "cells": [
  {
   "cell_type": "markdown",
   "id": "632d5483-8532-402a-a0bc-e6c1c6b4bb9b",
   "metadata": {},
   "source": [
    "# Python functions"
   ]
  },
  {
   "cell_type": "markdown",
   "id": "a0d6d54c-ae57-4182-b712-c4eb78b86904",
   "metadata": {},
   "source": [
    "## Q1. Which keyword is used to create a function? Create a function to return a list of odd numbers in the range of 1 to 25.\n",
    "\n",
    "## Ans:\n",
    "'def' keyword is used to create function."
   ]
  },
  {
   "cell_type": "code",
   "execution_count": 1,
   "id": "c2d838ef-ac92-4d7e-93d0-598377c6d223",
   "metadata": {},
   "outputs": [
    {
     "data": {
      "text/plain": [
       "[1, 3, 5, 7, 9, 11, 13, 15, 17, 19, 21, 23]"
      ]
     },
     "execution_count": 1,
     "metadata": {},
     "output_type": "execute_result"
    }
   ],
   "source": [
    "def odd_number():\n",
    "    odd_lst = []\n",
    "    for num in range(1,25):\n",
    "        if num % 2 == 1:\n",
    "            odd_lst.append(num)\n",
    "    return odd_lst\n",
    "odd_number()"
   ]
  },
  {
   "cell_type": "markdown",
   "id": "b6c59b61-216c-4371-9b39-f118e1a8a3a6",
   "metadata": {},
   "source": [
    "## Q2. Why *args and **kwargs is used in some functions? Create a function each for *args and **kwargs to demonstrate their use.\n",
    "\n",
    "## Ans:\n",
    "*args: It is used to give any number of input arguments like integer, float, string, list, tuple etc. to functions but not key-value pair. All these arguments will be stored in tuple."
   ]
  },
  {
   "cell_type": "code",
   "execution_count": 2,
   "id": "92830532-4e1c-4d19-965e-d96a735587d9",
   "metadata": {},
   "outputs": [
    {
     "data": {
      "text/plain": [
       "(1, 2, 3, [4, 5], 'Hello')"
      ]
     },
     "execution_count": 2,
     "metadata": {},
     "output_type": "execute_result"
    }
   ],
   "source": [
    "def test1(*args):\n",
    "    return args\n",
    "a = test1(1,2,3,[4,5],'Hello')\n",
    "a"
   ]
  },
  {
   "cell_type": "markdown",
   "id": "3121d5b1-546a-4967-8c53-ebf4573a7e28",
   "metadata": {},
   "source": [
    "**kwargs: It is used to give any number of key-value pair as input arguments in the function. All these arguments will be stored in a dictionary. "
   ]
  },
  {
   "cell_type": "code",
   "execution_count": 3,
   "id": "e67f69cf-a3f8-4b4f-b928-c90ec2cae0a8",
   "metadata": {},
   "outputs": [
    {
     "data": {
      "text/plain": [
       "{'a': 34, 'b': [1, 2], 'c': 'Hi'}"
      ]
     },
     "execution_count": 3,
     "metadata": {},
     "output_type": "execute_result"
    }
   ],
   "source": [
    "def test2(**kwargs):\n",
    "    return kwargs\n",
    "b = test2(a=34,b=[1,2],c='Hi')\n",
    "b"
   ]
  },
  {
   "cell_type": "markdown",
   "id": "bd4def1f-eac1-4749-9804-231590487483",
   "metadata": {},
   "source": [
    "## Q3. What is an iterator in python? Name the method used to initialise the iterator object and the method used for iteration. Use these methods to print the first five elements of the given list [2, 4, 6, 8, 10, 12, 14, 16, 18, 20].\n",
    "\n",
    "## Ans:"
   ]
  },
  {
   "cell_type": "markdown",
   "id": "463943ff-6a04-42fc-b409-9aa095248771",
   "metadata": {},
   "source": [
    "In Python, an iterator is an object that allows you to iterate (loop) over a sequence of items, such as elements in a list, characters in a string, or keys in a dictionary. It provides a way to access the elements of a sequence one by one without having to deal with the underlying implementation details of the sequence. \\\n",
    "The method used to initilize iterator is: 'iter()'. \\\n",
    "The method used for iteration is: 'next()'. "
   ]
  },
  {
   "cell_type": "code",
   "execution_count": 4,
   "id": "3ee767f7-3936-4eb8-89e7-d690b53e861e",
   "metadata": {},
   "outputs": [
    {
     "name": "stdout",
     "output_type": "stream",
     "text": [
      "2\n",
      "4\n",
      "6\n",
      "8\n",
      "10\n"
     ]
    }
   ],
   "source": [
    "lst2 = [2,4,6,8,10,12,14,16,18,20]\n",
    "iterator = iter(lst2)\n",
    "for _ in range(5):\n",
    "    element = next(iterator)\n",
    "    print(element)"
   ]
  },
  {
   "cell_type": "markdown",
   "id": "8b429a75-0e56-4d37-895a-b5369e1fe682",
   "metadata": {},
   "source": [
    "## Q4. What is a generator function in python? Why yield keyword is used? Give an example of a generator function.\n",
    "\n",
    "## Ans:"
   ]
  },
  {
   "cell_type": "markdown",
   "id": "767245ba-31a8-4bbb-a5d8-83eae106bbde",
   "metadata": {},
   "source": [
    "A generator is a unique kind of function in Python returns an iterator known as a generator. Generator functions use the 'yield' keyword to produce a succession of values one at a time, as opposed to normal functions, which run and return a value. Since these values are dynamically created and not saved in memory, generators are memory-efficient for handling lengthy data sequences."
   ]
  },
  {
   "cell_type": "markdown",
   "id": "8544ca5a-019e-4241-9406-3c6a839eca7f",
   "metadata": {},
   "source": [
    "In generator functions, the yield keyword is used to halt the function's execution and return a value to the caller. When the generator function is invoked once again, it picks up where it left off and keeps the state of the local variables."
   ]
  },
  {
   "cell_type": "code",
   "execution_count": 2,
   "id": "5ec11142-94e5-460a-aa75-db45d980abb6",
   "metadata": {},
   "outputs": [],
   "source": [
    "def fibo(n):\n",
    "    a,b=0,1\n",
    "    for i in range(n):\n",
    "        yield a\n",
    "        a,b=b,a+b"
   ]
  },
  {
   "cell_type": "code",
   "execution_count": 3,
   "id": "1e018cec-d969-4555-a084-58288d7e5087",
   "metadata": {},
   "outputs": [
    {
     "name": "stdin",
     "output_type": "stream",
     "text": [
      "Enter the number: 5\n"
     ]
    },
    {
     "name": "stdout",
     "output_type": "stream",
     "text": [
      "0\n",
      "1\n",
      "1\n",
      "2\n",
      "3\n"
     ]
    }
   ],
   "source": [
    "n = int(input('Enter the number:'))\n",
    "for i in fibo(n):\n",
    "    print(i)"
   ]
  },
  {
   "cell_type": "markdown",
   "id": "afe2568a-c866-46a1-8528-c3180fa945aa",
   "metadata": {},
   "source": [
    "## Q5. Create a generator function for prime numbers less than 1000. Use the next() method to print the first 20 prime numbers."
   ]
  },
  {
   "cell_type": "markdown",
   "id": "480d6940-3a4e-46bb-8a43-ab367a03c578",
   "metadata": {},
   "source": [
    "## Ans:"
   ]
  },
  {
   "cell_type": "code",
   "execution_count": 2,
   "id": "758b42eb-ad2d-445a-b28c-b28596f51214",
   "metadata": {},
   "outputs": [
    {
     "name": "stdout",
     "output_type": "stream",
     "text": [
      "2\n",
      "5\n",
      "7\n",
      "11\n",
      "13\n",
      "17\n",
      "19\n",
      "23\n",
      "29\n",
      "31\n",
      "37\n",
      "41\n",
      "43\n",
      "47\n",
      "53\n",
      "59\n",
      "61\n",
      "67\n",
      "71\n",
      "73\n"
     ]
    }
   ],
   "source": [
    "# Using generator function producing prime numbers\n",
    "def prime(n):\n",
    "    for num in range(1,n):\n",
    "        if num == 2:\n",
    "            yield num\n",
    "        else:\n",
    "            for i in range(2,int(num*0.5)+1):\n",
    "                if (num % i == 0):\n",
    "                    break\n",
    "                else:\n",
    "                    if i == int(num*0.5):\n",
    "                        yield num # yield is used here\n",
    "\n",
    "prime_num = []\n",
    "for num in prime(1000):\n",
    "    prime_num.append(num) # All produced numbers are stored\n",
    "\n",
    "prime_iter = iter(prime_num)\n",
    "for _ in range(20):\n",
    "    ele = next(prime_iter) # next() is used to print 20 prime numbers\n",
    "    print(ele)"
   ]
  },
  {
   "cell_type": "code",
   "execution_count": 13,
   "id": "f870a64f-b9aa-4fbe-9c62-6dd5d59739d7",
   "metadata": {},
   "outputs": [],
   "source": [
    "for num in range(2,2):\n",
    "    print(num)\n"
   ]
  },
  {
   "cell_type": "code",
   "execution_count": null,
   "id": "452083a6-e651-4285-8722-0473ef3b2bcb",
   "metadata": {},
   "outputs": [],
   "source": []
  }
 ],
 "metadata": {
  "kernelspec": {
   "display_name": "Python 3 (ipykernel)",
   "language": "python",
   "name": "python3"
  },
  "language_info": {
   "codemirror_mode": {
    "name": "ipython",
    "version": 3
   },
   "file_extension": ".py",
   "mimetype": "text/x-python",
   "name": "python",
   "nbconvert_exporter": "python",
   "pygments_lexer": "ipython3",
   "version": "3.10.8"
  }
 },
 "nbformat": 4,
 "nbformat_minor": 5
}
