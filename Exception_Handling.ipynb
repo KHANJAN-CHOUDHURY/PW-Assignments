{
 "cells": [
  {
   "cell_type": "markdown",
   "id": "4fcc0eef-cfc7-4fb2-88b4-ef3a335e2ef4",
   "metadata": {},
   "source": [
    "## Q1. What is an Exception in python? Write the difference between Exceptions and syntax errors?"
   ]
  },
  {
   "cell_type": "markdown",
   "id": "8e8c4dc0-8a36-4eee-a5ab-e16d7f2f4f8e",
   "metadata": {},
   "source": [
    "## Ans"
   ]
  },
  {
   "cell_type": "markdown",
   "id": "96340e2c-240c-4317-b85e-8b99077d7a35",
   "metadata": {},
   "source": [
    "An exception in Python is an event that occurs during the execution of a program, disrupting the normal flow of the program's instructions. When an exception occurs, the program doesn't proceed as usual; instead, it jumps to a specific section of code called an \"exception handler\" or \"exception block\" that can handle or respond to the exceptional situation. This helps in gracefully managing errors and preventing crashes."
   ]
  },
  {
   "cell_type": "markdown",
   "id": "d606220b-f4b8-4439-8d97-9d9a0e112e87",
   "metadata": {},
   "source": [
    "The difference between syntax error and Exceptions are:\n",
    "\n",
    "1. Syntax errors occure during the parsing phase before the program runs, whereas exceptions occur during program execution.\n",
    "2. Syntax errors are related to violations of the language's syntax rules, whereas exceptions are raised due to runtime errors or exceptional conditions.\n",
    "3. Syntax errors prevent the program from even starting, while exceptions can occur at any point during program execution.\n",
    "4. Syntax errors are usually caused by issues like misspellings, missing punctuation, and incorrect structure. Exceptions are typically caused by invalid inputs, unexpected calculations, or external factors."
   ]
  },
  {
   "cell_type": "markdown",
   "id": "2686ebf2-092c-4380-9f8d-b2de8b450dc4",
   "metadata": {},
   "source": [
    "## Q2. What happens when an exception is not handled? Explain with an example."
   ]
  },
  {
   "cell_type": "markdown",
   "id": "900f774c-867c-4a8b-a578-1cd2318c970a",
   "metadata": {},
   "source": [
    "## Ans:"
   ]
  },
  {
   "cell_type": "markdown",
   "id": "cfb4d87f-81b2-43d1-a15b-c782fcacda2e",
   "metadata": {},
   "source": [
    "When an exception is not handled in a Python program, it leads to what is commonly referred to as an \"unhandled exception.\" In this situation, the normal flow of the program is abruptly interrupted, and the program terminates, displaying an error message that describes the unhandled exception. This behavior can be problematic, especially in production environments or user-facing applications, as it can lead to unexpected crashes and poor user experience. It explained with following code:"
   ]
  },
  {
   "cell_type": "code",
   "execution_count": 1,
   "id": "bcf7c913-6a65-4018-98bb-93960311f9cf",
   "metadata": {},
   "outputs": [
    {
     "ename": "ZeroDivisionError",
     "evalue": "division by zero",
     "output_type": "error",
     "traceback": [
      "\u001b[0;31m---------------------------------------------------------------------------\u001b[0m",
      "\u001b[0;31mZeroDivisionError\u001b[0m                         Traceback (most recent call last)",
      "Cell \u001b[0;32mIn[1], line 4\u001b[0m\n\u001b[1;32m      1\u001b[0m \u001b[38;5;28;01mdef\u001b[39;00m \u001b[38;5;21mdivide\u001b[39m(a, b):\n\u001b[1;32m      2\u001b[0m     \u001b[38;5;28;01mreturn\u001b[39;00m a \u001b[38;5;241m/\u001b[39m b\n\u001b[0;32m----> 4\u001b[0m result \u001b[38;5;241m=\u001b[39m \u001b[43mdivide\u001b[49m\u001b[43m(\u001b[49m\u001b[38;5;241;43m10\u001b[39;49m\u001b[43m,\u001b[49m\u001b[43m \u001b[49m\u001b[38;5;241;43m0\u001b[39;49m\u001b[43m)\u001b[49m\n\u001b[1;32m      5\u001b[0m \u001b[38;5;28mprint\u001b[39m(\u001b[38;5;124m\"\u001b[39m\u001b[38;5;124mResult:\u001b[39m\u001b[38;5;124m\"\u001b[39m, result)\n",
      "Cell \u001b[0;32mIn[1], line 2\u001b[0m, in \u001b[0;36mdivide\u001b[0;34m(a, b)\u001b[0m\n\u001b[1;32m      1\u001b[0m \u001b[38;5;28;01mdef\u001b[39;00m \u001b[38;5;21mdivide\u001b[39m(a, b):\n\u001b[0;32m----> 2\u001b[0m     \u001b[38;5;28;01mreturn\u001b[39;00m \u001b[43ma\u001b[49m\u001b[43m \u001b[49m\u001b[38;5;241;43m/\u001b[39;49m\u001b[43m \u001b[49m\u001b[43mb\u001b[49m\n",
      "\u001b[0;31mZeroDivisionError\u001b[0m: division by zero"
     ]
    }
   ],
   "source": [
    "def divide(a, b):\n",
    "    return a / b\n",
    "\n",
    "result = divide(10, 0)\n",
    "print(\"Result:\", result)"
   ]
  },
  {
   "cell_type": "markdown",
   "id": "4b1afcf0-75e1-44dc-bcde-78367fd08763",
   "metadata": {},
   "source": [
    "'ZeroDivisionError' can be handled using 'try' and 'except' block. "
   ]
  },
  {
   "cell_type": "code",
   "execution_count": 2,
   "id": "de64b749-66c6-43f6-8a8e-48acefcce5e5",
   "metadata": {},
   "outputs": [
    {
     "name": "stdout",
     "output_type": "stream",
     "text": [
      "An error occurred: division by zero\n"
     ]
    }
   ],
   "source": [
    "def divide(a, b):\n",
    "    return a / b\n",
    "\n",
    "try:\n",
    "    result = divide(10, 0)\n",
    "    print(\"Result:\", result)\n",
    "except ZeroDivisionError as e:\n",
    "    print(\"An error occurred:\", e)"
   ]
  },
  {
   "cell_type": "markdown",
   "id": "3d4dc77b-5928-4b5b-b77f-c874b699ac67",
   "metadata": {},
   "source": [
    "## Q3. Which Python statements  are used to catch and handle exceptions? Explain with an example."
   ]
  },
  {
   "cell_type": "markdown",
   "id": "42f5e594-e540-495c-86b6-577b7c00be64",
   "metadata": {},
   "source": [
    "## Ans:"
   ]
  },
  {
   "cell_type": "markdown",
   "id": "c297e136-c110-41e3-bd1d-28e829b29b66",
   "metadata": {},
   "source": [
    "'try' and 'except' statements are used to catch and handle exception. Inside 'try' statement/block suspicious part of the code is written. If in the suspicious part of the code error exists then control will go the 'except' statement/block. In this block possible reasons and type of the error is mentionded.  "
   ]
  },
  {
   "cell_type": "code",
   "execution_count": 3,
   "id": "c3cdff7d-7fc2-45cb-a965-f424168b6f47",
   "metadata": {},
   "outputs": [
    {
     "name": "stdout",
     "output_type": "stream",
     "text": [
      "An error occurred: division by zero\n"
     ]
    }
   ],
   "source": [
    "def divide(a, b):\n",
    "    return a / b\n",
    "\n",
    "try:\n",
    "    result = divide(10, 0)\n",
    "    print(\"Result:\", result)\n",
    "except ZeroDivisionError as e:\n",
    "    print(\"An error occurred:\", e)"
   ]
  },
  {
   "cell_type": "markdown",
   "id": "0e98e992-b4c2-4e8b-9aca-1059a0a9cc97",
   "metadata": {},
   "source": [
    "In the above code number is divided by zero. This creates a zero division error. This is handled by 'try' and 'except'."
   ]
  },
  {
   "cell_type": "markdown",
   "id": "e77c4a2f-a8c2-4498-a818-ab87769c57fd",
   "metadata": {},
   "source": [
    "## Q4. Explain with an example:\n",
    "## a. try and else \n",
    "## b. finall \n",
    "## c. raise"
   ]
  },
  {
   "cell_type": "markdown",
   "id": "66254d51-021e-412a-af48-178ef1fdf399",
   "metadata": {},
   "source": [
    "## Ans:"
   ]
  },
  {
   "cell_type": "markdown",
   "id": "028a149c-18d4-485d-9589-6f712f7f823a",
   "metadata": {},
   "source": [
    "1. try and else \\\n",
    "If try block has no error then only else block will be executed."
   ]
  },
  {
   "cell_type": "code",
   "execution_count": 4,
   "id": "dde57082-1351-4805-a527-7ed16febef83",
   "metadata": {},
   "outputs": [
    {
     "name": "stdout",
     "output_type": "stream",
     "text": [
      "5\n",
      "No error in try block\n"
     ]
    }
   ],
   "source": [
    "try:\n",
    "    a=2\n",
    "    b=3\n",
    "    c=a+b\n",
    "    print(c)\n",
    "except Exception as e:\n",
    "    print('error is',e)\n",
    "else:\n",
    "    print('No error in try block')"
   ]
  },
  {
   "cell_type": "markdown",
   "id": "1abab81a-d4ba-4fc2-840e-14e5dffda838",
   "metadata": {},
   "source": [
    "2. finally \\\n",
    "It will always get executed but will also produce error log."
   ]
  },
  {
   "cell_type": "code",
   "execution_count": 5,
   "id": "0c3cf224-672a-426f-bd91-48817fd0998d",
   "metadata": {},
   "outputs": [
    {
     "name": "stdout",
     "output_type": "stream",
     "text": [
      "error is division by zero\n",
      "Does not matter what error is.\n"
     ]
    }
   ],
   "source": [
    "try:\n",
    "    a=2\n",
    "    b=0\n",
    "    c=a/b\n",
    "    print(c)\n",
    "except Exception as e:\n",
    "    print('error is',e)\n",
    "else:\n",
    "    print('No error in try block')\n",
    "finally:\n",
    "    print('Does not matter what error is.')"
   ]
  },
  {
   "cell_type": "markdown",
   "id": "7d14ca5a-e030-42d3-9725-f6dc49b389c8",
   "metadata": {},
   "source": [
    "In Python, the raise statement is used to explicitly raise an exception. This allows us to create and raise custom exceptions or propagate existing ones in specific situations where an exceptional condition is detected. The raise statement is often used in combination with try and except blocks for handling exceptions in a controlled manner. For example:"
   ]
  },
  {
   "cell_type": "code",
   "execution_count": 6,
   "id": "b96d56a0-6352-4601-ab0b-f63495e920ef",
   "metadata": {},
   "outputs": [
    {
     "name": "stdin",
     "output_type": "stream",
     "text": [
      "Enter a positive number:  -2500\n"
     ]
    },
    {
     "name": "stdout",
     "output_type": "stream",
     "text": [
      "Custom error: Invalid data: Cannot process negative values.\n"
     ]
    }
   ],
   "source": [
    "class CustomError(Exception):\n",
    "    def __init__(self, message):\n",
    "        self.message = message\n",
    "\n",
    "def process_data(data):\n",
    "    if data < 0:\n",
    "        raise CustomError(\"Invalid data: Cannot process negative values.\")\n",
    "    # Other processing logic here\n",
    "\n",
    "try:\n",
    "    value = int(input(\"Enter a positive number: \"))\n",
    "    process_data(value)\n",
    "except CustomError as ce:\n",
    "    print(\"Custom error:\", ce.message)\n",
    "except ValueError:\n",
    "    print(\"Invalid input. Please enter a valid number.\")"
   ]
  },
  {
   "cell_type": "markdown",
   "id": "282bf3d3-8381-43f8-8599-0f17cb739363",
   "metadata": {},
   "source": [
    "## Q5. What are Custom Exceptions in python? Why do we need Custom Exceptions? Explain with an example."
   ]
  },
  {
   "cell_type": "markdown",
   "id": "d01b587b-1872-4b62-bbd2-faa42cde2f0d",
   "metadata": {},
   "source": [
    "## Ans:"
   ]
  },
  {
   "cell_type": "markdown",
   "id": "6f0fc89b-4b97-4ff8-b2bf-884eb86246c0",
   "metadata": {},
   "source": [
    "Custom exceptions in Python are user-defined exception classes that we can create to handle specific error scenarios in our code. While Python provides a range of built-in exceptions, creating custom exceptions allows us to define more meaningful and specific exception types that match the requirements and structure of our program. Custom exceptions enhance code readability, maintainability, and error handling by providing more context and information about the exceptional condition."
   ]
  },
  {
   "cell_type": "markdown",
   "id": "f6835931-3d87-4ee6-b959-1a60cb666685",
   "metadata": {},
   "source": [
    "Here's why we might need custom exceptions:\n",
    "\n",
    "1. Clearer Error Messages: By defining custom exceptions, you can provide error messages that are tailored to our application's domain and logic. This helps users or developers understand the nature of the error without having to dig through generic error messages.\n",
    "\n",
    "2. Categorization of Errors: Custom exceptions can categorize different types of errors that might occur in your application. This makes it easier to catch and handle specific issues separately, improving the overall error-handling strategy.\n",
    "\n",
    "3. Code Readability: Custom exceptions add semantic meaning to your code. When you see a custom exception being raised or caught, it's immediately clear what kind of error is being addressed.\n",
    "\n",
    "4. Consistency: When multiple parts of your codebase need to raise similar errors, using custom exceptions ensures that these errors are consistent in terms of structure and behavior.\n",
    "\n",
    "5. Ease of Maintenance: As your application grows, maintaining and extending error handling becomes easier when you have well-structured custom exceptions."
   ]
  },
  {
   "cell_type": "code",
   "execution_count": 7,
   "id": "0675f8c0-68e8-4a94-a6c1-79a0895b76a4",
   "metadata": {},
   "outputs": [
    {
     "name": "stdout",
     "output_type": "stream",
     "text": [
      "Error: Withdrawal of 1500 exceeds available balance of 1000\n"
     ]
    }
   ],
   "source": [
    "class WithdrawalError(Exception):\n",
    "    def __init__(self, balance, amount):\n",
    "        self.balance = balance\n",
    "        self.amount = amount\n",
    "        self.message = f\"Withdrawal of {amount} exceeds available balance of {balance}\"\n",
    "\n",
    "def withdraw(balance, amount):\n",
    "    if amount > balance:\n",
    "        raise WithdrawalError(balance, amount)\n",
    "    return balance - amount\n",
    "\n",
    "try:\n",
    "    account_balance = 1000\n",
    "    withdrawal_amount = 1500\n",
    "    new_balance = withdraw(account_balance, withdrawal_amount)\n",
    "    print(\"Withdrawal successful. New balance:\", new_balance)\n",
    "except WithdrawalError as we:\n",
    "    print(\"Error:\", we.message)"
   ]
  },
  {
   "cell_type": "markdown",
   "id": "819ae182-c94a-407c-9c2d-e45352317ca0",
   "metadata": {},
   "source": [
    "## Q6. Create an custom exception class. Use this class to handle an exception."
   ]
  },
  {
   "cell_type": "code",
   "execution_count": 8,
   "id": "7fb0b7f6-5a06-42f1-a265-0fb0949ee30c",
   "metadata": {},
   "outputs": [
    {
     "name": "stdout",
     "output_type": "stream",
     "text": [
      "Error: Withdrawal of 1500 exceeds available balance of 1000\n"
     ]
    }
   ],
   "source": [
    "class WithdrawalError(Exception):\n",
    "    def __init__(self, balance, amount):\n",
    "        self.balance = balance\n",
    "        self.amount = amount\n",
    "        self.message = f\"Withdrawal of {amount} exceeds available balance of {balance}\"\n",
    "\n",
    "def withdraw(balance, amount):\n",
    "    if amount > balance:\n",
    "        raise WithdrawalError(balance, amount)\n",
    "    return balance - amount\n",
    "\n",
    "try:\n",
    "    account_balance = 1000\n",
    "    withdrawal_amount = 1500\n",
    "    new_balance = withdraw(account_balance, withdrawal_amount)\n",
    "    print(\"Withdrawal successful. New balance:\", new_balance)\n",
    "except WithdrawalError as we:\n",
    "    print(\"Error:\", we.message)"
   ]
  }
 ],
 "metadata": {
  "kernelspec": {
   "display_name": "Python 3 (ipykernel)",
   "language": "python",
   "name": "python3"
  },
  "language_info": {
   "codemirror_mode": {
    "name": "ipython",
    "version": 3
   },
   "file_extension": ".py",
   "mimetype": "text/x-python",
   "name": "python",
   "nbconvert_exporter": "python",
   "pygments_lexer": "ipython3",
   "version": "3.10.8"
  }
 },
 "nbformat": 4,
 "nbformat_minor": 5
}
