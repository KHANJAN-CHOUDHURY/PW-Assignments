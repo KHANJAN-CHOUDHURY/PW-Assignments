{
 "cells": [
  {
   "cell_type": "markdown",
   "id": "1310ece9-fc7f-40a9-a926-fb488faff9e8",
   "metadata": {},
   "source": [
    "# OOPS-2"
   ]
  },
  {
   "cell_type": "markdown",
   "id": "28dd064a-7c48-4368-b786-c063a477b672",
   "metadata": {},
   "source": [
    "## Q1. Create a vehicle class with an init method having instance variables as name_of_vehicle, max_speed and average_of_vehicle."
   ]
  },
  {
   "cell_type": "markdown",
   "id": "843ee59b-ded9-45a9-9929-ad02a355fd70",
   "metadata": {},
   "source": [
    "## Ans:"
   ]
  },
  {
   "cell_type": "code",
   "execution_count": 2,
   "id": "a19e1847-bf1f-4f83-b979-958c878d3a8e",
   "metadata": {},
   "outputs": [],
   "source": [
    "class Vehicle:\n",
    "    def __init__(self,name_of_vehicle, max_speed, average_of_vehicle):\n",
    "        self.name_of_vehicle = name_of_vehicle\n",
    "        self.max_speed = max_speed\n",
    "        self.average_of_vehicle = average_of_vehicle"
   ]
  },
  {
   "cell_type": "markdown",
   "id": "63366157-a034-46f9-992b-3687390a03c8",
   "metadata": {},
   "source": [
    "## Q2. Create a child class car from the vehicle class created in Que 1, which will inherit the vehicle class. Create a method named seating_capacity which takes capacity as an argument and returns the name of the vehicle and its seating capacity."
   ]
  },
  {
   "cell_type": "markdown",
   "id": "8c91edcd-a5b0-4e62-93be-e2cc91f4c1dd",
   "metadata": {},
   "source": [
    "## Ans:"
   ]
  },
  {
   "cell_type": "code",
   "execution_count": null,
   "id": "79a27a56-8d96-4482-87fa-f3db599860be",
   "metadata": {},
   "outputs": [],
   "source": [
    "class Car(Vehicle):\n",
    "    def seating_capacity(self, capacity):\n",
    "        return \"The {} has a seating capacity of {} people\".formate(self.name_of_vehicle,capacity)"
   ]
  },
  {
   "cell_type": "markdown",
   "id": "104ac3a8-cf29-4bb7-9a37-28f7dafa3b92",
   "metadata": {},
   "source": [
    "## Q3. What is multiple inheritance? Write a python code to demonstrate multiple inheritance."
   ]
  },
  {
   "cell_type": "markdown",
   "id": "0bb0baaf-2463-432c-936f-26be73f70ed0",
   "metadata": {},
   "source": [
    "## Ans:"
   ]
  },
  {
   "cell_type": "markdown",
   "id": "99cd1b53-6b73-441e-92fc-3bb46717af45",
   "metadata": {},
   "source": [
    "In multiple inheritance, a class inherits from more than one superclass. This allows the subclass to inherit attributes and methods from multiple classes."
   ]
  },
  {
   "cell_type": "code",
   "execution_count": 4,
   "id": "e2b414fb-8bb9-4d9f-9c11-9a1f0f9dcabc",
   "metadata": {},
   "outputs": [
    {
     "name": "stdout",
     "output_type": "stream",
     "text": [
      "Swimming...\n",
      "Walking...\n"
     ]
    }
   ],
   "source": [
    "class Swimmer:\n",
    "    def swim(self):\n",
    "        return \"Swimming...\"\n",
    "\n",
    "class Walker:\n",
    "    def walk(self):\n",
    "        return \"Walking...\"\n",
    "\n",
    "class Amphibian(Swimmer, Walker):\n",
    "    pass\n",
    "\n",
    "frog = Amphibian()\n",
    "print(frog.swim())  # Output: Swimming...\n",
    "print(frog.walk())  # Output: Walking..."
   ]
  },
  {
   "cell_type": "markdown",
   "id": "4a7ab059-f622-48ad-8f8a-a6b430e15517",
   "metadata": {},
   "source": [
    "## Q4. What are getter and setter in python? Create a class and create a getter and a setter method in this class."
   ]
  },
  {
   "cell_type": "markdown",
   "id": "747e0f08-2939-4c21-929f-c798b52f5e12",
   "metadata": {},
   "source": [
    "## Ans:"
   ]
  },
  {
   "cell_type": "markdown",
   "id": "c2cc836b-1fc7-4dde-ab24-3c839aafbe21",
   "metadata": {},
   "source": [
    "In python getter and setter are a common pattern used to  ensure data encapsulation and to avoid direct access to the private variables which cannot be accessed directly or modified by external user."
   ]
  },
  {
   "cell_type": "code",
   "execution_count": 1,
   "id": "70e11e74-d30d-4551-a245-29ba4d424c2c",
   "metadata": {},
   "outputs": [],
   "source": [
    "class pwskills:\n",
    "    \n",
    "    def __init__(self, course_price , course_name):\n",
    "        self.__course_price = course_price # '__course_price' is a private variable\n",
    "        self.course_name = course_name\n",
    "        \n",
    "    @property\n",
    "    def course_price_access(self): # This is the way to access private varible i.e. getter operation\n",
    "        return self.__course_price\n",
    "    \n",
    "    @course_price_access.setter # This is the way to modify private variable using 'setter'.\n",
    "    def course_price_set(self , price):\n",
    "        if price <= 3500:\n",
    "            pass\n",
    "        else :\n",
    "            self.__course_price = price\n",
    "            \n",
    "    @course_price_access.deleter #This how deleter code is written. \n",
    "    def course_price_del(self):\n",
    "        del  self.__course_price\n",
    "    "
   ]
  },
  {
   "cell_type": "code",
   "execution_count": 3,
   "id": "65b36187-ffca-45b6-a96b-7b927d12c6a7",
   "metadata": {},
   "outputs": [],
   "source": [
    "pw = pwskills(3500 , \"data science masters\")"
   ]
  },
  {
   "cell_type": "code",
   "execution_count": 4,
   "id": "93ff50cb-a54d-4f84-81b5-740c11388dc2",
   "metadata": {},
   "outputs": [
    {
     "data": {
      "text/plain": [
       "' Using property decorated function value of the private variable is accessed. That is getter \\noperation.'"
      ]
     },
     "execution_count": 4,
     "metadata": {},
     "output_type": "execute_result"
    }
   ],
   "source": [
    "pw.course_price_access \n",
    "\"\"\" Using property decorated function value of the private variable is accessed. That is getter \n",
    "operation.\"\"\""
   ]
  },
  {
   "cell_type": "code",
   "execution_count": 5,
   "id": "0ee5372a-565a-4a2f-a49c-8e6fc67c6598",
   "metadata": {},
   "outputs": [
    {
     "data": {
      "text/plain": [
       "4500"
      ]
     },
     "execution_count": 5,
     "metadata": {},
     "output_type": "execute_result"
    }
   ],
   "source": [
    "pw.course_price_set = 4500 # Using object and 'stter' private variable is accessed and modified.\n",
    "pw.course_price_access"
   ]
  },
  {
   "cell_type": "markdown",
   "id": "bf5e3af4-14ef-47d6-9e4a-57dcf6eb2ff0",
   "metadata": {},
   "source": [
    "## Q5. What is method overriding in python? Write a python code to demonstrate method overriding."
   ]
  },
  {
   "cell_type": "markdown",
   "id": "d73d50b2-045a-4c3e-b326-28a90717d4ae",
   "metadata": {},
   "source": [
    "## Ans:"
   ]
  },
  {
   "cell_type": "markdown",
   "id": "e10c6963-8a3f-4486-b35e-99c921ea2c01",
   "metadata": {},
   "source": [
    "Method overriding in Python is a concept where a child class provides a specific implementation for a method that is already defined in its parent class. This allows the subclass to customize the behavior of the inherited method while keeping the method signature (name and parameters) the same."
   ]
  },
  {
   "cell_type": "code",
   "execution_count": 5,
   "id": "766a7b7b-d842-4a2f-b1c0-fa3816ad9f79",
   "metadata": {},
   "outputs": [
    {
     "name": "stdout",
     "output_type": "stream",
     "text": [
      "Animal speaks\n",
      "Dog barks\n",
      "Cat meows\n"
     ]
    }
   ],
   "source": [
    "class Animal:\n",
    "    def speak(self):\n",
    "        return \"Animal speaks\"\n",
    "\n",
    "class Dog(Animal):\n",
    "    def speak(self):## speak method of parent class 'Animal' is overriden here\n",
    "        return \"Dog barks\"\n",
    "\n",
    "class Cat(Animal):\n",
    "    def speak(self):## speak method of parent class 'Animal' is overriden here\n",
    "        return \"Cat meows\"\n",
    "\n",
    "# Creating objects and using overridden methods\n",
    "animal = Animal()\n",
    "dog = Dog()\n",
    "cat = Cat()\n",
    "\n",
    "print(animal.speak())  # Output: Animal speaks\n",
    "print(dog.speak())     # Output: Dog barks (overridden method)\n",
    "print(cat.speak())     # Output: Cat meows (overridden method)"
   ]
  }
 ],
 "metadata": {
  "kernelspec": {
   "display_name": "Python 3 (ipykernel)",
   "language": "python",
   "name": "python3"
  },
  "language_info": {
   "codemirror_mode": {
    "name": "ipython",
    "version": 3
   },
   "file_extension": ".py",
   "mimetype": "text/x-python",
   "name": "python",
   "nbconvert_exporter": "python",
   "pygments_lexer": "ipython3",
   "version": "3.10.8"
  }
 },
 "nbformat": 4,
 "nbformat_minor": 5
}
