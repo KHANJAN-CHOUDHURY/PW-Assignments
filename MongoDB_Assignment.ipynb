{
 "cells": [
  {
   "cell_type": "markdown",
   "id": "71a91c9a-5a1b-450a-84cb-bbc55d8b1e91",
   "metadata": {},
   "source": [
    "## Q1. What is MongoDB? Explain non-relational databases in short. In which scenarios it is preferred to use MongoDB over SQL databases?"
   ]
  },
  {
   "cell_type": "markdown",
   "id": "08b0ed7e-3861-4778-bd36-88cde76bc976",
   "metadata": {},
   "source": [
    "## Ans:"
   ]
  },
  {
   "cell_type": "markdown",
   "id": "8ee207cc-99a8-4a11-8df5-99179805ec3c",
   "metadata": {},
   "source": [
    "MongoDB is a popular open-source, document-oriented NoSQL database that provides high scalability, flexibility, and performance for storing and managing data. It falls under the category of non-relational databases, also known as NoSQL databases."
   ]
  },
  {
   "cell_type": "markdown",
   "id": "013988c2-be5b-4604-9558-c16ddd40ee54",
   "metadata": {},
   "source": [
    "Non-Relational Databases (NoSQL):\\\n",
    "Non-relational databases, often referred to as NoSQL databases, are a category of databases that do not use the traditional tabular structure found in SQL databases. Instead, they offer flexible and dynamic data models that can handle various types of data, including unstructured and semi-structured data. NoSQL databases are designed to scale horizontally and offer high availability for applications that require massive amounts of data storage and fast data retrieval."
   ]
  },
  {
   "cell_type": "markdown",
   "id": "a9cc9933-08cb-4f92-b12c-de6fd4b065a2",
   "metadata": {},
   "source": [
    "Scenarios to Prefer MongoDB over SQL Databases:\\\n",
    "MongoDB is preferred over traditional SQL databases in specific scenarios where the characteristics of NoSQL databases are advantageous:\n",
    "\n",
    "1. Flexible and Evolving Schema: When your application requires frequent changes to the data structure or when dealing with unstructured or semi-structured data, MongoDB's schema-less nature allows for easy adaptation.\n",
    "\n",
    "2. Scalability: MongoDB's ability to distribute data across multiple nodes and scale horizontally makes it a suitable choice for applications that expect rapid data growth and high traffic.\n",
    "\n",
    "3. Complex Data Structures: If your application needs to store hierarchical data, arrays, nested documents, or other complex data structures, MongoDB's document model is well-suited.\n",
    "\n",
    "4. Rapid Development and Prototyping: MongoDB's ease of use and quick setup make it a good choice for startups or projects where speed of development is crucial.\n",
    "\n",
    "5. Real-Time Analytics: MongoDB's ability to handle semi-structured data and its integration with modern analytics and machine learning tools make it suitable for real-time analytics and big data applications.\n",
    "\n",
    "6. Agile and Iterative Development: In scenarios where requirements change frequently, MongoDB's ability to adapt to evolving data models can be beneficial."
   ]
  },
  {
   "cell_type": "markdown",
   "id": "ea8ccc0f-4103-469c-a048-eecb2f3dffb2",
   "metadata": {},
   "source": [
    "## Q2. State and Explain the features of MongoDB."
   ]
  },
  {
   "cell_type": "markdown",
   "id": "493a0442-f248-4e06-856f-256534fe7b3f",
   "metadata": {},
   "source": [
    "## Ans"
   ]
  },
  {
   "cell_type": "markdown",
   "id": "c29c71a8-7fd4-4685-8a3b-c17fe6e68e9a",
   "metadata": {},
   "source": [
    "Here are some key features of MongoDB:\n",
    "\n",
    "1. Document-Oriented: MongoDB stores data in flexible, JSON-like documents known as BSON (Binary JSON). Each document can have a different structure, allowing for diverse and changing data models.\n",
    "\n",
    "2. Schema Flexibility:\n",
    "    MongoDB has a dynamic schema, allowing documents in the same collection to have different fields. This flexibility is particularly useful when dealing with evolving or unstructured data.\n",
    "\n",
    "3. Horizontal Scalability:\n",
    "    MongoDB is designed to scale horizontally, distributing data across multiple servers or nodes. This ensures seamless handling of large datasets and high traffic loads.\n",
    "\n",
    "4. Rich Query Language:\n",
    "    MongoDB supports a powerful query language that allows for complex queries, indexing, sorting, and filtering. It supports querying within documents, nested arrays, and more.\n",
    "\n",
    "6. Indexing:\n",
    "    MongoDB supports various types of indexes, including single field, compound, geospatial, and text indexes. Indexes improve query performance and allow for efficient data retrieval.\n",
    "\n",
    "7. Aggregation Framework:\n",
    "    MongoDB's aggregation framework offers tools for data transformation, aggregation, and analysis. It provides operators for grouping, filtering, projecting, and more.\n",
    "\n",
    "8. Full-Text Search:\n",
    "    MongoDB includes full-text search capabilities that allow users to perform text-based queries on text-rich fields within documents.\n",
    "\n",
    "9. Automatic Sharding:\n",
    "    MongoDB offers built-in automatic sharding, distributing data across shards to support horizontal scaling without manual intervention.\n",
    "\n",
    "10. Replication and High Availability:\n",
    "    MongoDB supports replica sets, ensuring data redundancy and high availability. Replica sets consist of primary and secondary nodes that replicate data.\n",
    "\n",
    "11. Ease of Use:\n",
    "    MongoDB's document-based approach and intuitive query language make it relatively easy for developers to work with. It also supports a variety of programming languages and platforms.\n",
    "\n",
    "12. JSON-Like Documents:\n",
    "    BSON documents used by MongoDB resemble JSON objects, making data representation and manipulation more familiar to developers.\n",
    "\n",
    "13. Ad Hoc Queries:\n",
    "    MongoDB allows for ad hoc queries, enabling developers to query data without the need to predefine a schema or structure.\n",
    "\n",
    "14. GridFS for Large Files:\n",
    "    MongoDB's GridFS allows for the storage and retrieval of large files, such as images, videos, and audio files, in a structured way.\n",
    "\n",
    "15. Security:\n",
    "    MongoDB provides security features such as authentication, authorization, role-based access control, and field-level access control"
   ]
  },
  {
   "cell_type": "markdown",
   "id": "c6f2d442-0c39-4b06-a32a-82e2819e172f",
   "metadata": {},
   "source": [
    "## Q3. Write a code to connect MongoDB to Python. Also, create a database and a collection in MongoDB."
   ]
  },
  {
   "cell_type": "markdown",
   "id": "335e7515-7403-423b-9098-41f722e9374e",
   "metadata": {},
   "source": [
    "## Ans:"
   ]
  },
  {
   "cell_type": "code",
   "execution_count": null,
   "id": "c9ea0211-5af9-4b0d-bcde-a41de32c3257",
   "metadata": {},
   "outputs": [],
   "source": [
    "import pymongo\n",
    "\n",
    "# Connect to the MongoDB server running on localhost\n",
    "client = pymongo.MongoClient(\"path to MongoDB application in my account\")\n",
    "\n",
    "# Create a new database named \"mydatabase\"\n",
    "mydb = client[\"mydatabase\"]\n",
    "\n",
    "# Create a new collection named \"customers\" in the \"mydatabase\" database\n",
    "mycol = mydb[\"customers\"]\n",
    "\n",
    "# Sample document to insert into the collection\n",
    "data = {\"name\": \"John\", \"email\": \"john@example.com\", \"age\": 30}\n",
    "\n",
    "# Insert the document into the \"customers\" collection\n",
    "insert_result = mycol.insert_one(data)\n",
    "\n",
    "# Print the inserted document's ID\n",
    "print(\"Inserted document ID:\", insert_result.inserted_id)\n",
    "\n",
    "# Close the MongoDB connection\n",
    "client.close()\n"
   ]
  },
  {
   "cell_type": "markdown",
   "id": "6d1a8173-c02c-4930-b4ef-7823c83abe33",
   "metadata": {},
   "source": [
    "## Q4. Using the database and the collection created in question number 3, write a code to insert one record, and insert many records. Use the find() and find_one() methods to print the inserted record."
   ]
  },
  {
   "cell_type": "markdown",
   "id": "bab91b09-db50-4af0-af11-ccd96c764c37",
   "metadata": {},
   "source": [
    "## Ans:"
   ]
  },
  {
   "cell_type": "code",
   "execution_count": null,
   "id": "f3e3ed33-4aa1-45d0-ab7d-2966b2afa9f5",
   "metadata": {},
   "outputs": [],
   "source": [
    "import pymongo\n",
    "\n",
    "# Connect to the MongoDB server running on localhost\n",
    "client = pymongo.MongoClient(\"path to MongoDB application in my account\")\n",
    "\n",
    "# Access the \"mydatabase\" database and the \"customers\" collection\n",
    "mydb = client[\"mydatabase\"]\n",
    "mycol = mydb[\"customers\"]\n",
    "\n",
    "# Insert one record\n",
    "one_record = {\"name\": \"Alice\", \"email\": \"alice@example.com\", \"age\": 25}\n",
    "insert_one_result = mycol.insert_one(one_record)\n",
    "print(\"Inserted ID (One record):\", insert_one_result.inserted_id)\n",
    "\n",
    "# Insert multiple records\n",
    "many_records = [\n",
    "    {\"name\": \"Bob\", \"email\": \"bob@example.com\", \"age\": 28},\n",
    "    {\"name\": \"Eve\", \"email\": \"eve@example.com\", \"age\": 22}\n",
    "]\n",
    "insert_many_result = mycol.insert_many(many_records)\n",
    "print(\"Inserted IDs (Many records):\", insert_many_result.inserted_ids)\n",
    "\n",
    "# Retrieve and print the inserted record using find_one()\n",
    "inserted_record = mycol.find_one({\"name\": \"Alice\"})\n",
    "print(\"Inserted Record (find_one()):\", inserted_record)\n",
    "\n",
    "# Retrieve and print all inserted records using find()\n",
    "all_inserted_records = mycol.find()\n",
    "print(\"All Inserted Records (find()):\")\n",
    "for record in all_inserted_records:\n",
    "    print(record)\n",
    "\n",
    "# Close the MongoDB connection\n",
    "client.close()"
   ]
  },
  {
   "cell_type": "markdown",
   "id": "b7b5bbb1-715f-40dc-b14a-82af75ca3129",
   "metadata": {},
   "source": [
    "## Q5. Explain how you can use the find() method to query the MongoDB database. Write a simple code to demonstrate this."
   ]
  },
  {
   "cell_type": "markdown",
   "id": "c2ce263a-f35f-487a-b249-58a093b7e75d",
   "metadata": {},
   "source": [
    "## Ans:"
   ]
  },
  {
   "cell_type": "markdown",
   "id": "c44d6247-9004-4539-ac67-d724ef8cb4ab",
   "metadata": {},
   "source": [
    "The find() method in MongoDB is used to query a collection and retrieve documents that match the specified criteria. It returns a cursor, which is an iterable that can be used to traverse the results. The find() method takes a query document as its argument, specifying the conditions that the documents must meet to be included in the result set."
   ]
  },
  {
   "cell_type": "code",
   "execution_count": null,
   "id": "fb117164-eaea-4a24-84db-56421a2816c3",
   "metadata": {},
   "outputs": [],
   "source": [
    "import pymongo\n",
    "\n",
    "# Connect to the MongoDB server running on localhost\n",
    "client = pymongo.MongoClient(\"path to MongoDB application in my account\")\n",
    "\n",
    "# Access the \"mydatabase\" database and the \"customers\" collection\n",
    "mydb = client[\"mydatabase\"]\n",
    "mycol = mydb[\"customers\"]\n",
    "\n",
    "# Query for documents with age greater than 25\n",
    "query = {\"age\": {\"$gt\": 25}}\n",
    "\n",
    "# Use the find() method to retrieve documents that match the query\n",
    "result_cursor = mycol.find(query)\n",
    "\n",
    "# Print the matching documents\n",
    "print(\"Matching Documents:\")\n",
    "for document in result_cursor:\n",
    "    print(document)\n",
    "\n",
    "# Close the MongoDB connection\n",
    "client.close()\n"
   ]
  },
  {
   "cell_type": "markdown",
   "id": "2d99956c-71b9-49b9-860a-d98af794c6f1",
   "metadata": {},
   "source": [
    "## Q6. Explain the sort() method. Give an example to demonstrate sorting in MongoDB."
   ]
  },
  {
   "cell_type": "markdown",
   "id": "e22b5f73-3e9c-4e99-a0bf-278c5101464d",
   "metadata": {},
   "source": [
    "## Ans:"
   ]
  },
  {
   "cell_type": "markdown",
   "id": "340050a1-f45b-4d83-9811-c998debf9020",
   "metadata": {},
   "source": [
    "The sort() method in MongoDB is used to specify the order in which the retrieved documents should be sorted. It allows you to sort the documents based on one or more fields in either ascending (1) or descending (-1) order. The sort() method is often used in conjunction with the find() method to retrieve and present the data in a specific order."
   ]
  },
  {
   "cell_type": "code",
   "execution_count": null,
   "id": "cc363a7b-08c9-4c14-86cf-8ade37cd7e28",
   "metadata": {},
   "outputs": [],
   "source": [
    "import pymongo\n",
    "\n",
    "# Connect to the MongoDB server running on localhost\n",
    "client = pymongo.MongoClient(\"path to MongoDB application in my account\")\n",
    "\n",
    "# Access the \"mydatabase\" database and the \"customers\" collection\n",
    "mydb = client[\"mydatabase\"]\n",
    "mycol = mydb[\"customers\"]\n",
    "\n",
    "# Use the sort() method to retrieve documents sorted by age in ascending order\n",
    "ascending_sort = mycol.find().sort(\"age\", 1)\n",
    "\n",
    "print(\"Ascending Sort (by age):\")\n",
    "for document in ascending_sort:\n",
    "    print(document)\n",
    "\n",
    "# Use the sort() method to retrieve documents sorted by age in descending order\n",
    "descending_sort = mycol.find().sort(\"age\", -1)\n",
    "\n",
    "print(\"Descending Sort (by age):\")\n",
    "for document in descending_sort:\n",
    "    print(document)\n",
    "\n",
    "# Close the MongoDB connection\n",
    "client.close()"
   ]
  },
  {
   "cell_type": "markdown",
   "id": "8579fa65-e01f-4a9d-b9d6-1f818b24a015",
   "metadata": {},
   "source": [
    "## Q7. Explain why delete_one(), delete_many(), and drop() is used."
   ]
  },
  {
   "cell_type": "markdown",
   "id": "3e5421b6-a4d9-4fa4-a17b-eccb7140c39e",
   "metadata": {},
   "source": [
    "## Ans:"
   ]
  },
  {
   "cell_type": "code",
   "execution_count": null,
   "id": "e1164210-ecf4-4854-b63a-7716653771d5",
   "metadata": {},
   "outputs": [],
   "source": []
  }
 ],
 "metadata": {
  "kernelspec": {
   "display_name": "Python 3 (ipykernel)",
   "language": "python",
   "name": "python3"
  },
  "language_info": {
   "codemirror_mode": {
    "name": "ipython",
    "version": 3
   },
   "file_extension": ".py",
   "mimetype": "text/x-python",
   "name": "python",
   "nbconvert_exporter": "python",
   "pygments_lexer": "ipython3",
   "version": "3.10.8"
  }
 },
 "nbformat": 4,
 "nbformat_minor": 5
}
