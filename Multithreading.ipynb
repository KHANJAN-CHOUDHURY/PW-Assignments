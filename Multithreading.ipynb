{
 "cells": [
  {
   "cell_type": "markdown",
   "id": "7c95e4a7-82ea-4306-b28a-deb2cc808411",
   "metadata": {},
   "source": [
    "## Q1. What is multithreading in python? Why is it used? Name the module used to handle threads in python."
   ]
  },
  {
   "cell_type": "markdown",
   "id": "aa234b33-45f4-4d66-8ce7-5869358b3b04",
   "metadata": {},
   "source": [
    "## Ans:"
   ]
  },
  {
   "cell_type": "markdown",
   "id": "6de10f38-b3ec-44cd-9a53-2139dfdee5a8",
   "metadata": {},
   "source": [
    "Multithreading in Python refers to the concurrent execution of multiple threads within a single process. A thread is a lightweight unit of execution that can perform tasks concurrently with other threads, sharing the same resources (like memory space) within a process. Multithreading allows a program to perform multiple tasks concurrently, potentially improving overall program performance and responsiveness.\n",
    "\n",
    "Python's Global Interpreter Lock (GIL) restricts true parallel execution of multiple threads due to the GIL's serialization of thread execution. This means that although multiple threads can run concurrently, only one thread can execute Python bytecode at a time, effectively limiting the full utilization of multiple CPU cores for CPU-bound tasks. However, multithreading can still be useful for IO-bound tasks (where threads spend a lot of time waiting for external resources) and for improving concurrency in certain situations"
   ]
  },
  {
   "cell_type": "markdown",
   "id": "7fee1fd4-2ac1-4580-a7ed-27b09c839712",
   "metadata": {},
   "source": [
    "Multithreading is used for various reasons:\n",
    "\n",
    "1. Concurrency: Multithreading allows a program to perform multiple tasks concurrently, which can improve the responsiveness of applications, particularly in scenarios where tasks involve waiting for IO operations.\n",
    "\n",
    "2. Parallelism for IO-bound Tasks: While the GIL limits true parallelism for CPU-bound tasks, multithreading can still provide parallelism for IO-bound tasks like network requests, file operations, and database queries.\n",
    "\n",
    "3. Asynchronous Programming: Threads can be used to implement asynchronous programming models, where tasks can start, pause, and resume based on certain conditions without blocking the entire program.\n",
    "\n",
    "4. User Interface Responsiveness: In GUI applications, multithreading can keep the user interface responsive while performing background tasks, preventing the application from freezing."
   ]
  },
  {
   "cell_type": "markdown",
   "id": "7f4e5095-3f97-4e84-ac09-24eb30a7fbb4",
   "metadata": {},
   "source": [
    "The module used to handle threads in Python is called the \"threading\" module. "
   ]
  },
  {
   "cell_type": "markdown",
   "id": "84805513-f3cc-4318-85a2-97fcd68bfdea",
   "metadata": {},
   "source": [
    "## Q2. Why threading module used? Write the use of the following functions\n",
    "1. activeCount()\n",
    "2. currentThread()\n",
    "3. enumerate()"
   ]
  },
  {
   "cell_type": "markdown",
   "id": "f42e0ba2-e8eb-41ac-bec7-6c5a6f1ab84d",
   "metadata": {},
   "source": [
    "## Ans:"
   ]
  },
  {
   "cell_type": "markdown",
   "id": "eee071d2-47b8-48e9-b17c-fbf7febc26f0",
   "metadata": {},
   "source": [
    "The threading module in Python is used to work with threads and manage concurrency. It provides a higher-level interface for creating and managing threads, synchronization, and thread safety. "
   ]
  },
  {
   "cell_type": "markdown",
   "id": "d808d14a-0595-4ace-a9d7-8655ccc68ca3",
   "metadata": {},
   "source": [
    "1. activeCount():\n",
    "The activeCount() function returns the number of Thread objects currently alive (not terminated). It gives us a count of all active threads running in the program, including the main thread."
   ]
  },
  {
   "cell_type": "code",
   "execution_count": 1,
   "id": "e208581b-5501-4f56-b0c2-aed7053ce7d4",
   "metadata": {},
   "outputs": [
    {
     "name": "stdout",
     "output_type": "stream",
     "text": [
      "Thread is working.\n",
      "Thread is working.\n",
      "Number of active threads: 8\n"
     ]
    },
    {
     "name": "stderr",
     "output_type": "stream",
     "text": [
      "/tmp/ipykernel_2228/2569938323.py:12: DeprecationWarning: activeCount() is deprecated, use active_count() instead\n",
      "  print(\"Number of active threads:\", threading.activeCount())\n"
     ]
    }
   ],
   "source": [
    "import threading\n",
    "\n",
    "def worker():\n",
    "    print(\"Thread is working.\")\n",
    "\n",
    "thread1 = threading.Thread(target=worker)\n",
    "thread2 = threading.Thread(target=worker)\n",
    "\n",
    "thread1.start()\n",
    "thread2.start()\n",
    "\n",
    "print(\"Number of active threads:\", threading.activeCount())"
   ]
  },
  {
   "cell_type": "markdown",
   "id": "8e682b2c-61c9-48f9-974c-0964e8492361",
   "metadata": {},
   "source": [
    "2. currentThread():\n",
    "The currentThread() function returns the current Thread object corresponding to the caller's thread. It allows us to access the current thread's attributes and methods."
   ]
  },
  {
   "cell_type": "code",
   "execution_count": 2,
   "id": "509eb8de-5217-4e26-a3b3-a6214b1f1440",
   "metadata": {},
   "outputs": [
    {
     "name": "stdout",
     "output_type": "stream",
     "text": [
      "Current thread name: WorkerThread\n"
     ]
    },
    {
     "name": "stderr",
     "output_type": "stream",
     "text": [
      "/tmp/ipykernel_2228/666045034.py:4: DeprecationWarning: currentThread() is deprecated, use current_thread() instead\n",
      "  current = threading.currentThread()\n"
     ]
    }
   ],
   "source": [
    "import threading\n",
    "\n",
    "def worker():\n",
    "    current = threading.currentThread()\n",
    "    print(\"Current thread name:\", current.name)\n",
    "\n",
    "thread1 = threading.Thread(target=worker, name=\"WorkerThread\")\n",
    "thread1.start()"
   ]
  },
  {
   "cell_type": "markdown",
   "id": "0b24df99-3dc0-499a-a411-ca5a6883e380",
   "metadata": {},
   "source": [
    "3. enumerate(): \n",
    "The enumerate() function returns a list of all Thread objects currently alive (not terminated). It's often used to get a list of currently active threads for inspection or management purposes."
   ]
  },
  {
   "cell_type": "code",
   "execution_count": 3,
   "id": "592e76e2-58a8-4552-93d2-3f3da0232a25",
   "metadata": {},
   "outputs": [
    {
     "name": "stdout",
     "output_type": "stream",
     "text": [
      "Active threads: [<_MainThread(MainThread, started 140440677410624)>, <Thread(IOPub, started daemon 140440531629632)>, <Heartbeat(Heartbeat, started daemon 140440523236928)>, <Thread(Thread-3 (_watch_pipe_fd), started daemon 140440498058816)>, <Thread(Thread-4 (_watch_pipe_fd), started daemon 140440489666112)>, <ControlThread(Control, started daemon 140440481273408)>, <HistorySavingThread(IPythonHistorySavingThread, started 140440128976448)>, <ParentPollerUnix(Thread-2, started daemon 140440120583744)>, <Thread(Thread-7 (worker), started 140440112191040)>, <Thread(Thread-8 (worker), started 140440103798336)>, <Thread(Thread-9 (worker), started 140440095405632)>, <Thread(Thread-10 (worker), started 140440087012928)>, <Thread(Thread-11 (worker), started 140440078620224)>]\n",
      "Thread is working.\n",
      "Thread is working.\n",
      "Thread is working.\n",
      "Thread is working.\n",
      "Thread is working.\n"
     ]
    }
   ],
   "source": [
    "import threading\n",
    "import time\n",
    "\n",
    "def worker():\n",
    "    time.sleep(1)\n",
    "    print(\"Thread is working.\")\n",
    "\n",
    "threads = []\n",
    "for _ in range(5):\n",
    "    thread = threading.Thread(target=worker)\n",
    "    threads.append(thread)\n",
    "    thread.start()\n",
    "\n",
    "time.sleep(0.5)\n",
    "active_threads = threading.enumerate()\n",
    "print(\"Active threads:\", active_threads)"
   ]
  },
  {
   "cell_type": "markdown",
   "id": "f09b7d84-292c-4fe1-9174-9ae74e183998",
   "metadata": {},
   "source": [
    "## Q3. Explain the following functions\n",
    "1. run()\n",
    "2. start()\n",
    "3. join()\n",
    "4. isAlive()"
   ]
  },
  {
   "cell_type": "markdown",
   "id": "59657dcd-7bce-4667-9658-3aba04da6dfa",
   "metadata": {},
   "source": [
    "## Ans:"
   ]
  },
  {
   "cell_type": "markdown",
   "id": "75a3139c-2820-409c-8e10-1179ec2e1d06",
   "metadata": {},
   "source": [
    "1. run():\n",
    "The run() method is a method defined in the Thread class that we can override in our own custom thread classes. This method contains the code that will be executed when a thread is started using the start() method. By default, the run() method does nothing, so it's common to subclass the Thread class and override run() to provide the desired functionality"
   ]
  },
  {
   "cell_type": "code",
   "execution_count": 4,
   "id": "d854743d-7964-446d-8365-d6c58d5894f8",
   "metadata": {},
   "outputs": [
    {
     "name": "stdout",
     "output_type": "stream",
     "text": [
      "Thread is running.\n"
     ]
    }
   ],
   "source": [
    "import threading\n",
    "\n",
    "class MyThread(threading.Thread):\n",
    "    def run(self):\n",
    "        print(\"Thread is running.\")\n",
    "\n",
    "thread = MyThread()\n",
    "thread.run()  # This will execute the overridden run() method"
   ]
  },
  {
   "cell_type": "markdown",
   "id": "d3f89b0d-18eb-441b-9753-958bc6038a7a",
   "metadata": {},
   "source": [
    "2. start():\n",
    "The start() method is used to begin the execution of a thread. When you call start(), a new thread is created, and its run() method (if overridden) is executed concurrently with other threads in the program. This allows multiple threads to run in parallel."
   ]
  },
  {
   "cell_type": "code",
   "execution_count": 5,
   "id": "39b1cdaf-30a5-40ff-ac2c-9ac32822a9a6",
   "metadata": {},
   "outputs": [
    {
     "name": "stdout",
     "output_type": "stream",
     "text": [
      "Thread is working.\n"
     ]
    }
   ],
   "source": [
    "import threading\n",
    "\n",
    "def worker():\n",
    "    print(\"Thread is working.\")\n",
    "\n",
    "thread = threading.Thread(target=worker)\n",
    "thread.start()  # This starts the thread and executes worker() concurrently"
   ]
  },
  {
   "cell_type": "markdown",
   "id": "030088cb-3321-43f0-91f3-e5ef4b197867",
   "metadata": {},
   "source": [
    "3. join():\n",
    "The join() method is used to wait for a thread to complete its execution before moving on with the rest of the program. It blocks the calling thread until the target thread finishes its execution. This is useful for ensuring that one thread's work is completed before another thread depends on its results."
   ]
  },
  {
   "cell_type": "code",
   "execution_count": 6,
   "id": "2da86755-f45b-43ab-ab12-50ed2bb1bf00",
   "metadata": {},
   "outputs": [
    {
     "name": "stdout",
     "output_type": "stream",
     "text": [
      "Thread is working.\n",
      "Thread has finished.\n"
     ]
    }
   ],
   "source": [
    "import threading\n",
    "\n",
    "def worker():\n",
    "    print(\"Thread is working.\")\n",
    "\n",
    "thread = threading.Thread(target=worker)\n",
    "thread.start()\n",
    "thread.join()  # Wait for the thread to finish before continuing\n",
    "print(\"Thread has finished.\")"
   ]
  },
  {
   "cell_type": "markdown",
   "id": "383ace44-5bb7-45ed-9010-d510172fd01d",
   "metadata": {},
   "source": [
    "4. isAlive(): \n",
    "It is depricated correct function is is_alive(). The isAlive() method is used to check whether a thread is still active and running. It returns True if the thread is running and hasn't finished its execution, and False if the thread has completed."
   ]
  },
  {
   "cell_type": "code",
   "execution_count": 8,
   "id": "5f724ee9-7655-47c5-8a84-0a1587414a3a",
   "metadata": {},
   "outputs": [
    {
     "name": "stdout",
     "output_type": "stream",
     "text": [
      "Thread is still active.\n",
      "Thread is still active.\n",
      "Thread has finished its work.\n",
      "Thread has completed.\n"
     ]
    }
   ],
   "source": [
    "import threading\n",
    "import time\n",
    "\n",
    "def worker():\n",
    "    time.sleep(1)\n",
    "    print(\"Thread has finished its work.\")\n",
    "\n",
    "thread = threading.Thread(target=worker)\n",
    "thread.start()\n",
    "\n",
    "while thread.is_alive():\n",
    "    print(\"Thread is still active.\")\n",
    "    time.sleep(0.5)\n",
    "\n",
    "print(\"Thread has completed.\")"
   ]
  },
  {
   "cell_type": "markdown",
   "id": "f37ef963-3665-49b7-bf40-1639de026d34",
   "metadata": {},
   "source": [
    "## Q4. Write a python program to create two threads. Thread one must print the list of squares and thread two must print the list of cubes."
   ]
  },
  {
   "cell_type": "markdown",
   "id": "4e7866c5-8149-4f6c-aa03-e6a46bc23f2e",
   "metadata": {},
   "source": [
    "## Ans:"
   ]
  },
  {
   "cell_type": "code",
   "execution_count": 13,
   "id": "9411cd26-62ba-4537-b031-aeb73dc474cb",
   "metadata": {},
   "outputs": [],
   "source": [
    "import time\n",
    "import threading"
   ]
  },
  {
   "cell_type": "code",
   "execution_count": 14,
   "id": "1282d1e1-be2d-42bf-8064-8c3342bb457c",
   "metadata": {},
   "outputs": [],
   "source": [
    "def cal_square(nums):\n",
    "    print('Calculating square of the list of numbers:')\n",
    "    sq = []\n",
    "    for num in nums:\n",
    "        time.sleep(1)\n",
    "        print('square:',num**2)\n",
    "        sq.append(num**2)\n",
    "    print('list of square number:',sq)"
   ]
  },
  {
   "cell_type": "code",
   "execution_count": 15,
   "id": "c93639cb-a26d-4df0-9356-d3f32d3be0f8",
   "metadata": {},
   "outputs": [],
   "source": [
    "def cal_cube(nums):\n",
    "    print('Calculating cube of the list of numbers:')\n",
    "    cb = []\n",
    "    for num in nums:\n",
    "        time.sleep(1)\n",
    "        print('cube:',num**3)\n",
    "        cb.append(num**3)\n",
    "    print('list of cube numbers:',cb)"
   ]
  },
  {
   "cell_type": "code",
   "execution_count": 16,
   "id": "553144cf-c7d8-4721-9eeb-4e1dd6efdf6d",
   "metadata": {},
   "outputs": [
    {
     "name": "stdout",
     "output_type": "stream",
     "text": [
      "Calculating square of the list of numbers:\n",
      "Calculating cube of the list of numbers:\n",
      "square: 4\n",
      "cube: 8\n",
      "square:cube: 27\n",
      " 9\n",
      "cube:square: 16\n",
      " 64\n",
      "square:cube: 125\n",
      "list of cube numbers: [8, 27, 64, 125]\n",
      " 25\n",
      "list of square number: [4, 9, 16, 25]\n",
      "Time needed 4.005966424942017\n"
     ]
    }
   ],
   "source": [
    "arr = [2,3,4,5]\n",
    "t = time.time()\n",
    "t1 = threading.Thread(target=cal_square,args=(arr,))\n",
    "t2 = threading.Thread(target=cal_cube,args=(arr,))\n",
    "t1.start()\n",
    "t2.start()\n",
    "t1.join()\n",
    "t2.join()\n",
    "print('Time needed', time.time()-t)"
   ]
  },
  {
   "cell_type": "markdown",
   "id": "f24b08fd-98ef-4ced-b083-4f3c91b26cee",
   "metadata": {},
   "source": [
    "## Q5. State advantages and disadvantages of multithreading."
   ]
  },
  {
   "cell_type": "markdown",
   "id": "c1755ae0-17c6-4ecf-8d69-6070ec0443ec",
   "metadata": {},
   "source": [
    "## Ans:"
   ]
  },
  {
   "cell_type": "markdown",
   "id": "50d501a0-eaa9-4465-aca3-cc25c23ffcfb",
   "metadata": {},
   "source": [
    "Advantages of Multithreading:\n",
    "\n",
    "1. Concurrency: Multithreading allows multiple tasks to execute concurrently within a single process. This can lead to improved overall program performance by efficiently utilizing available CPU cores.\n",
    "\n",
    "2. Responsiveness: In applications with a user interface (UI), multithreading can keep the UI responsive even when performing time-consuming tasks in the background.\n",
    "\n",
    "3. Parallelism for IO-bound Tasks: Multithreading is beneficial for IO-bound tasks, such as network requests or file I/O, where threads can perform useful work while waiting for external resources.\n",
    "\n",
    "4. Resource Sharing: Threads share the same memory space, which allows them to easily share data and communicate with each other, making it easier to implement complex inter-thread communication and synchronization.\n",
    "\n",
    "5. Reduced Latency: Multithreading can reduce the latency associated with tasks that have to wait for resources by allowing other threads to continue execution in the meantime."
   ]
  },
  {
   "cell_type": "markdown",
   "id": "3dc8e797-a2b1-4c61-a1c6-f4f0fe793066",
   "metadata": {},
   "source": [
    "Disadvantages of Multithreading:\n",
    "\n",
    "1. Complexity: Multithreading introduces complexity due to issues like race conditions, deadlocks, and synchronization problems, making debugging and development more challenging.\n",
    "\n",
    "2. Race Conditions: When multiple threads access and modify shared data concurrently, race conditions can occur, leading to unpredictable behavior and data corruption.\n",
    "\n",
    "3. Deadlocks: Deadlocks happen when two or more threads are blocked indefinitely, waiting for each other to release resources they need.\n",
    "\n",
    "4. Synchronization Overhead: Synchronizing access to shared resources introduces overhead, slowing down the program's execution, especially for CPU-bound tasks.\n",
    "\n",
    "5. GIL Limitations: In Python, the Global Interpreter Lock (GIL) restricts true parallel execution of threads, impacting the performance of CPU-bound tasks by allowing only one thread to execute Python bytecode at a time.\n",
    "\n",
    "6. Resource Consumption: Threads consume memory and other system resources. Creating too many threads can lead to excessive resource consumption and slow down the system.\n",
    "\n",
    "7. Debugging Complexity: Debugging multithreaded programs can be more challenging due to non-deterministic behavior and timing-related issues that are hard to reproduce consistently."
   ]
  },
  {
   "cell_type": "markdown",
   "id": "552369f1-8892-49ae-b885-2ec70668d299",
   "metadata": {},
   "source": [
    "## Q6. Explain deadlocks and race conditions."
   ]
  },
  {
   "cell_type": "markdown",
   "id": "dd69036d-209f-4553-9465-c7f9462f69eb",
   "metadata": {},
   "source": [
    "## Ans:"
   ]
  },
  {
   "cell_type": "markdown",
   "id": "79fabb2e-b3b3-42ef-8115-4e5f545c88ef",
   "metadata": {},
   "source": [
    "1. Deadlocks\n",
    "\n",
    "Deadlocks are situations that occur in concurrent programming when two or more threads or processes are unable to proceed because each is waiting for a resource held by another. In other words, the threads or processes are stuck in a circular waiting state, where none of them can make progress. Deadlocks can lead to a program becoming unresponsive or stuck indefinitely, requiring intervention to resolve the situation."
   ]
  },
  {
   "cell_type": "markdown",
   "id": "2733e468",
   "metadata": {},
   "source": [
    "2. Race Conditions\n",
    "\n",
    "A race condition in Python multi-threading occurs when two or more threads access shared data and try to change it at the same time. Because the threads are running simultaneously, they can overlap in their execution, leading to unpredictable and erroneous behavior."
   ]
  }
 ],
 "metadata": {
  "kernelspec": {
   "display_name": "Python 3 (ipykernel)",
   "language": "python",
   "name": "python3"
  },
  "language_info": {
   "codemirror_mode": {
    "name": "ipython",
    "version": 3
   },
   "file_extension": ".py",
   "mimetype": "text/x-python",
   "name": "python",
   "nbconvert_exporter": "python",
   "pygments_lexer": "ipython3",
   "version": "3.10.8"
  }
 },
 "nbformat": 4,
 "nbformat_minor": 5
}
