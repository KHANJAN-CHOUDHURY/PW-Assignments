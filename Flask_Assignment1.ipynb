{
 "cells": [
  {
   "cell_type": "markdown",
   "id": "15bb5d27-ffa6-4a7b-8726-17210db9ded6",
   "metadata": {},
   "source": [
    "## Q1. What is Flask Framework? What are the advantages of Flask Framework?"
   ]
  },
  {
   "cell_type": "markdown",
   "id": "a0dc964f-986e-46af-b0c8-3c8e0bdac02f",
   "metadata": {},
   "source": [
    "## Ans:"
   ]
  },
  {
   "cell_type": "markdown",
   "id": "a93181d8-4a90-4be7-a931-6ee6b1eca572",
   "metadata": {},
   "source": [
    "Flask is a micro web framework for Python. It is designed to be lightweight, flexible, and easy to use, making it a popular choice for building web applications and APIs. Flask provides the tools and components needed to create web applications, while allowing developers the freedom to choose how they structure their application and which additional libraries or components to use."
   ]
  },
  {
   "cell_type": "markdown",
   "id": "7b7c3d03-cd7a-4e8a-a2c3-c531423b5940",
   "metadata": {},
   "source": [
    "Advantages of Flask Framework:\n",
    "\n",
    "1. Simplicity and Minimalism: Flask follows a \"micro\" philosophy, which means it provides the essential components for web development without imposing too many restrictions. This simplicity allows developers to pick and choose the components they need, resulting in lightweight applications that are easier to understand and maintain.\n",
    "\n",
    "2. Flexibility: Flask doesn't dictate a specific project structure or force developers to use a particular database or template engine. This flexibility allows developers to architect their applications in a way that suits their specific needs and preferences.\n",
    "\n",
    "3. Easy to Learn and Use: Flask's minimalistic design and clear documentation make it relatively easy for beginners to learn and start building web applications quickly. The framework's API is intuitive and well-documented, making it accessible to developers of various skill levels.\n",
    "\n",
    "4. Extensibility: Flask is designed to be extended with third-party libraries and extensions. There are numerous Flask extensions available that provide additional functionality for tasks like authentication, database integration, form handling, and more. This extensibility allows developers to enhance their applications with ease.\n",
    "\n",
    "5. URL Routing: Flask provides a simple and flexible way to define URL routes for different parts of your application. Route handling is done using decorators, making it easy to map URLs to specific functions.\n",
    "\n",
    "6. Template Engine: Flask comes with Jinja2, a powerful and popular template engine, built-in. Jinja2 allows developers to separate the presentation layer (HTML) from the application logic and dynamically generate HTML content.\n",
    "\n",
    "7. Built-in Development Server: Flask includes a built-in development server, which is useful for testing and debugging your application during the development phase.\n",
    "\n",
    "8. Web Application and API Development: Flask can be used to build both traditional web applications and RESTful APIs. Its flexibility and simplicity make it suitable for a wide range of use cases.\n",
    "\n",
    "9. Community and Ecosystem: Flask has a vibrant community and a rich ecosystem of extensions, libraries, and resources. This means you can find a solution or answer to almost any problem you encounter while working with Flask.\n",
    "\n",
    "10. Scalability: While Flask is often associated with small to medium-sized applications, it can be used to build larger applications by integrating other tools and libraries. Many Flask applications serve as the foundation for more complex systems."
   ]
  },
  {
   "cell_type": "markdown",
   "id": "1211d078-e6b1-42c6-9c95-19bc33499f1e",
   "metadata": {},
   "source": [
    "## Q2. Create a simple Flask application to display ‘Hello World!!’. Attach the screenshot of the output in Jupyter Notebook."
   ]
  },
  {
   "cell_type": "markdown",
   "id": "56e1659e-7e6c-4c69-9d35-7d438717a4cd",
   "metadata": {},
   "source": [
    "## Ans:"
   ]
  },
  {
   "cell_type": "code",
   "execution_count": null,
   "id": "dcdb5179-2043-434f-9bfe-904dda1f19d8",
   "metadata": {},
   "outputs": [],
   "source": [
    "## Code for the simple Flask application\n",
    "from flask import Flask\n",
    "\n",
    "app = Flask(__name__)\n",
    "\n",
    "@app.route(\"/\")\n",
    "def hello_world():\n",
    "    return \"Hello World!!\"\n",
    "\n",
    "if __name__==\"__main__\":\n",
    "    app.run(host=\"0.0.0.0\")"
   ]
  },
  {
   "cell_type": "markdown",
   "id": "4558877e-330f-45e5-b86c-61eaa7204e1c",
   "metadata": {},
   "source": [
    "![](Flask.png)"
   ]
  },
  {
   "cell_type": "markdown",
   "id": "a1c11f87-b357-4f4f-8333-1f102fef4e07",
   "metadata": {},
   "source": [
    "## Q3. What is App routing in Flask? Why do we use app routes?"
   ]
  },
  {
   "cell_type": "markdown",
   "id": "84d52c47-c342-4ef8-a83c-888f0971d7a8",
   "metadata": {},
   "source": [
    "## Ans"
   ]
  },
  {
   "cell_type": "markdown",
   "id": "6206c52a-72de-4be2-b812-bba343197d56",
   "metadata": {},
   "source": [
    "App routing in Flask refers to the process of defining URL routes that map specific URLs to corresponding functions in our Flask application. These functions, also known as view functions, are responsible for handling requests made to the specified URLs and generating appropriate responses. In other words, app routing determines how different URLs are handled by our application."
   ]
  },
  {
   "cell_type": "markdown",
   "id": "4e30ab5b-0b03-4b06-a8db-f0ec89d830e6",
   "metadata": {},
   "source": [
    "App routing is a crucial aspect of web development, as it allows us to create a logical structure for our application and define how users interact with different parts of it. In Flask, app routing is achieved through the use of decorators that associate URL patterns with Python functions.\n",
    "\n",
    "Here's how app routing works in Flask:\n",
    "\n",
    "1. Defining Routes: We use decorators to define routes in our Flask application. A decorator is a special syntax in Python that allows you to modify or extend the behavior of functions. In Flask, decorators are used to associate a URL pattern with a view function. For example:"
   ]
  },
  {
   "cell_type": "code",
   "execution_count": null,
   "id": "b20177cf-73af-45c6-a32e-5f9210dc587c",
   "metadata": {},
   "outputs": [],
   "source": [
    "from flask import Flask\n",
    "\n",
    "app = Flask(__name__)\n",
    "\n",
    "@app.route('/')\n",
    "def home():\n",
    "    return \"Welcome to the home page!\""
   ]
  },
  {
   "cell_type": "markdown",
   "id": "6c3184fd-fc50-4ea7-a019-d8d555a5f6da",
   "metadata": {},
   "source": [
    "In this example, the @app.route('/') decorator associates the root URL (\"/\") with the home() function. When a user visits the root URL, the home() function is executed and returns the \"Welcome to the home page!\" message."
   ]
  },
  {
   "cell_type": "markdown",
   "id": "999755c2-1ad2-4cd0-b4a5-83acce0d5201",
   "metadata": {},
   "source": [
    "2. Dynamic URLs: Flask allows you to define dynamic URL routes by using placeholders in the route pattern. These placeholders are enclosed in angle brackets (<variable_name>). The values of these placeholders are passed as arguments to the associated view function."
   ]
  },
  {
   "cell_type": "code",
   "execution_count": null,
   "id": "657eb1dc-9ceb-492b-82eb-79801a4ee618",
   "metadata": {},
   "outputs": [],
   "source": [
    "@app.route('/user/<username>')\n",
    "def user_profile(username):\n",
    "    return f\"Profile page of {username}\""
   ]
  },
  {
   "cell_type": "markdown",
   "id": "66421be1-7a1d-4d33-854f-0d3b3c400557",
   "metadata": {},
   "source": [
    "App routes are essential because they define the structure and behavior of your web application. They enable users to access different parts of your application based on URLs, and they dictate how your application responds to various types of HTTP requests. App routing helps organize your code, making it easier to manage and maintain as your application grows. Additionally, it allows you to create RESTful APIs by defining routes that handle specific resource actions (GET, POST, PUT, DELETE, etc.)."
   ]
  },
  {
   "cell_type": "markdown",
   "id": "77faeefa-19b8-480c-a61b-d0ad56406e48",
   "metadata": {},
   "source": [
    "## Q4. Create a “/welcome” route to display the welcome message “Welcome to ABC Corporation” and a “/” route to show the following details:\n",
    "Company Name: ABC Corporation\\\n",
    "Location: India\\\n",
    "Contact Detail: 999-999-9999"
   ]
  },
  {
   "cell_type": "markdown",
   "id": "ab06165a-4bd0-4f9f-b192-2ff738798bad",
   "metadata": {},
   "source": [
    "## Ans:"
   ]
  },
  {
   "cell_type": "code",
   "execution_count": null,
   "id": "9e4cfcb0-5e8f-40d0-a767-35b8c2416132",
   "metadata": {},
   "outputs": [],
   "source": [
    "## Code for the above question\n",
    "from flask import Flask\n",
    "\n",
    "app = Flask(__name__)\n",
    "\n",
    "@app.route('/')\n",
    "def display():\n",
    "    return \"\"\"<h1>Company Name: ABC Corporation</h1>\n",
    "              <p>Location: India</p>\n",
    "              <p>Contact Detail: 999-999-9999</p>\"\"\"\n",
    "\n",
    "@app.route('/welcome')\n",
    "def hello_world():\n",
    "    return \"Welcome to ABC Corporation\"\n",
    "\n",
    "if __name__== \"__main__\":\n",
    "    app.run(host=\"0.0.0.0\")"
   ]
  },
  {
   "cell_type": "markdown",
   "id": "34b35bf8-f527-48c7-879c-1a7dd4997408",
   "metadata": {},
   "source": [
    "![](Flask2.png)"
   ]
  },
  {
   "cell_type": "markdown",
   "id": "3fbb10b8-1d32-4c28-9d49-6741dcde889b",
   "metadata": {},
   "source": [
    "![](Flask1.png)"
   ]
  },
  {
   "cell_type": "markdown",
   "id": "73dc9229-7b99-4db1-9b0e-efb9d181331d",
   "metadata": {},
   "source": [
    "## Q5. What function is used in Flask for URL Building? Write a Python code to demonstrate the working of the url_for() function."
   ]
  },
  {
   "cell_type": "markdown",
   "id": "4cac7982-a58f-4572-a724-94b589c703c9",
   "metadata": {},
   "source": [
    "## Ans:"
   ]
  },
  {
   "cell_type": "markdown",
   "id": "6451d8eb-b942-4efd-8a28-7018e0efb264",
   "metadata": {},
   "source": [
    "In Flask, the 'url_for()' function is used for URL building. It generates URLs for functions or views based on their endpoint names. This is especially useful when working with routes and templates because it allows you to avoid hardcoding URLs in your application.\n",
    "\n",
    "Here's a simple Python code example to demonstrate how the 'url_for()' function works in Flask:"
   ]
  },
  {
   "cell_type": "code",
   "execution_count": null,
   "id": "d0da97e8-6420-407b-839b-818a42bd45b8",
   "metadata": {},
   "outputs": [],
   "source": [
    "from flask import Flask, url_for\n",
    "\n",
    "app = Flask(__name__)\n",
    "\n",
    "# Define a route with an endpoint name\n",
    "@app.route('/')\n",
    "def index():\n",
    "    return 'Welcome to the home page!'\n",
    "\n",
    "@app.route('/about')\n",
    "def about():\n",
    "    return 'This is the About page.'\n",
    "\n",
    "@app.route('/contact')\n",
    "def contact():\n",
    "    return 'You can contact us here.'\n",
    "\n",
    "if __name__ == '__main__':\n",
    "    app.run(debug=True)"
   ]
  },
  {
   "cell_type": "markdown",
   "id": "1fb03e30-48fa-43eb-9ef2-5c1a4fc53201",
   "metadata": {},
   "source": [
    "In this example, we have a basic Flask application with three routes: '/' (root or home), '/about', and '/contact'. Each route has an associated function that returns a simple message.\n",
    "\n",
    "Now, let's demonstrate how to use the url_for() function to generate URLs for these routes in a Flask template. You would typically use a template engine like Jinja2 to achieve this, but we can demonstrate the concept using a simple string formatting approach:Now, let's use the url_for() function to generate URLs for these routes:"
   ]
  },
  {
   "cell_type": "code",
   "execution_count": null,
   "id": "f6595909-ddef-4217-87e3-b351c4cd3f5d",
   "metadata": {},
   "outputs": [],
   "source": [
    "from flask import Flask, url_for\n",
    "\n",
    "app = Flask(__name__)\n",
    "\n",
    "@app.route('/')\n",
    "def index():\n",
    "    return 'Welcome to the home page! <a href=\"{}\">About</a> <a href=\"{}\">Contact</a>'.format(url_for('about'), url_for('contact'))\n",
    "\n",
    "@app.route('/about')\n",
    "def about():\n",
    "    return 'This is the About page. <a href=\"{}\">Home</a>'.format(url_for('index'))\n",
    "\n",
    "@app.route('/contact')\n",
    "def contact():\n",
    "    return 'You can contact us here. <a href=\"{}\">Home</a>'.format(url_for('index'))\n",
    "\n",
    "if __name__ == '__main__':\n",
    "    app.run(debug=True)\n"
   ]
  },
  {
   "cell_type": "markdown",
   "id": "28d49ddf-e0ad-412f-a077-b414c34552d8",
   "metadata": {},
   "source": [
    "In this code:\n",
    "\n",
    "1. We import Flask and the url_for() function.\n",
    "\n",
    "2. In the index(), about(), and contact() functions, we use the url_for() function to generate URLs for the other routes and embed them as links in the HTML responses.\n",
    "\n",
    "3. When you run the Flask application and access the root URL ('/'), you'll see links to the 'About' and 'Contact' pages. Clicking on these links will take you to the respective routes.\n",
    "\n",
    "The url_for() function allows you to generate URLs dynamically and ensures that your application remains flexible and avoids hardcoded URLs, which is beneficial, especially when the URL structure of your application changes."
   ]
  },
  {
   "cell_type": "code",
   "execution_count": null,
   "id": "bc64f118-0b39-4d11-a915-1c74adedbc21",
   "metadata": {},
   "outputs": [],
   "source": []
  }
 ],
 "metadata": {
  "kernelspec": {
   "display_name": "Python 3 (ipykernel)",
   "language": "python",
   "name": "python3"
  },
  "language_info": {
   "codemirror_mode": {
    "name": "ipython",
    "version": 3
   },
   "file_extension": ".py",
   "mimetype": "text/x-python",
   "name": "python",
   "nbconvert_exporter": "python",
   "pygments_lexer": "ipython3",
   "version": "3.10.8"
  }
 },
 "nbformat": 4,
 "nbformat_minor": 5
}
