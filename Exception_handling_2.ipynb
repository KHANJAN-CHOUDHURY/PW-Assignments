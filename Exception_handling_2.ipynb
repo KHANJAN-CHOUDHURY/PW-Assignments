{
 "cells": [
  {
   "cell_type": "markdown",
   "id": "e63c6fcf-8840-4e61-8e68-6dbed670eff6",
   "metadata": {},
   "source": [
    "## Q1. Explain why we have to use the Exception class while creating a Custom Exception."
   ]
  },
  {
   "cell_type": "markdown",
   "id": "a7649771-3321-47dd-9836-f7a264472e28",
   "metadata": {},
   "source": [
    "## Ans:"
   ]
  },
  {
   "cell_type": "markdown",
   "id": "a8383455-00eb-4dcc-9bf7-691b8f7947e5",
   "metadata": {},
   "source": [
    "In Python, when creating a custom exception, it's important to inherit from the built-in Exception class (or one of its subclasses) for several reasons:\n",
    "\n",
    "1. Inheriting Behavior: By inheriting from the Exception class, our custom exception class inherits all the behavior and functionality of the base Exception class. This includes handling, raising, and catching exceptions using the standard exception-handling mechanisms.\n",
    "\n",
    "2. Consistent Handling: Inheriting from Exception ensures that our custom exception can be handled using the same try-except syntax as built-in exceptions. This maintains consistency in our code's error-handling approach.\n",
    "\n",
    "3. Hierarchy and Categorization: Inheriting from Exception allows our custom exception to fit into the exception hierarchy. We can create a custom exception hierarchy for categorizing different types of errors based on their characteristics. For example, we can have a parent custom exception class and multiple child classes that represent specific error scenarios.\n",
    "\n",
    "4. Built-in Exceptions: Some Python libraries and frameworks might expect exceptions to inherit from the Exception class or its subclasses. If we create custom exceptions that adhere to this pattern, our code will be more compatible with external tools and libraries.\n",
    "\n",
    "5. Compatibility: Following the convention of inheriting from Exception makes our code more understandable to other Python developers, as it adheres to common practices and conventions."
   ]
  },
  {
   "cell_type": "markdown",
   "id": "92de6722-e163-4f82-9e9b-1e4bd1f7bc58",
   "metadata": {},
   "source": [
    "## Q2. Write a python program to print Python Exception Hierarchy."
   ]
  },
  {
   "cell_type": "markdown",
   "id": "0591fda5-70f5-4e8c-8756-5593e4b4a77e",
   "metadata": {},
   "source": [
    "## Ans:"
   ]
  },
  {
   "cell_type": "code",
   "execution_count": 1,
   "id": "32fb497d-0349-4a65-a770-589ce2b4acf4",
   "metadata": {},
   "outputs": [
    {
     "name": "stdout",
     "output_type": "stream",
     "text": [
      "BaseException\n",
      "  Exception\n",
      "    TypeError\n",
      "      FloatOperation\n",
      "      MultipartConversionError\n",
      "    StopAsyncIteration\n",
      "    StopIteration\n",
      "    ImportError\n",
      "      ModuleNotFoundError\n",
      "      ZipImportError\n",
      "    OSError\n",
      "      ConnectionError\n",
      "        BrokenPipeError\n",
      "        ConnectionAbortedError\n",
      "        ConnectionRefusedError\n",
      "        ConnectionResetError\n",
      "          RemoteDisconnected\n",
      "      BlockingIOError\n",
      "      ChildProcessError\n",
      "      FileExistsError\n",
      "      FileNotFoundError\n",
      "      IsADirectoryError\n",
      "      NotADirectoryError\n",
      "      InterruptedError\n",
      "        InterruptedSystemCall\n",
      "      PermissionError\n",
      "      ProcessLookupError\n",
      "      TimeoutError\n",
      "      UnsupportedOperation\n",
      "      itimer_error\n",
      "      herror\n",
      "      gaierror\n",
      "      SSLError\n",
      "        SSLCertVerificationError\n",
      "        SSLZeroReturnError\n",
      "        SSLWantWriteError\n",
      "        SSLWantReadError\n",
      "        SSLSyscallError\n",
      "        SSLEOFError\n",
      "      Error\n",
      "        SameFileError\n",
      "      SpecialFileError\n",
      "      ExecError\n",
      "      ReadError\n",
      "      URLError\n",
      "        HTTPError\n",
      "        ContentTooShortError\n",
      "      BadGzipFile\n",
      "    EOFError\n",
      "      IncompleteReadError\n",
      "    RuntimeError\n",
      "      RecursionError\n",
      "      NotImplementedError\n",
      "        ZMQVersionError\n",
      "        StdinNotImplementedError\n",
      "      _DeadlockError\n",
      "      BrokenBarrierError\n",
      "      BrokenExecutor\n",
      "        BrokenThreadPool\n",
      "      SendfileNotAvailableError\n",
      "      ExtractionError\n",
      "      VariableError\n",
      "    NameError\n",
      "      UnboundLocalError\n",
      "    AttributeError\n",
      "      FrozenInstanceError\n",
      "    SyntaxError\n",
      "      IndentationError\n",
      "        TabError\n",
      "    LookupError\n",
      "      IndexError\n",
      "      KeyError\n",
      "        NoSuchKernel\n",
      "        UnknownBackend\n",
      "      CodecRegistryError\n",
      "    ValueError\n",
      "      UnicodeError\n",
      "        UnicodeEncodeError\n",
      "        UnicodeDecodeError\n",
      "        UnicodeTranslateError\n",
      "      UnsupportedOperation\n",
      "      JSONDecodeError\n",
      "      SSLCertVerificationError\n",
      "      Error\n",
      "      UnsupportedDigestmodError\n",
      "      IllegalMonthError\n",
      "      IllegalWeekdayError\n",
      "      ParserError\n",
      "      ClassNotFound\n",
      "      ClipboardEmpty\n",
      "      MessageDefect\n",
      "        NoBoundaryInMultipartDefect\n",
      "        StartBoundaryNotFoundDefect\n",
      "        CloseBoundaryNotFoundDefect\n",
      "        FirstHeaderLineIsContinuationDefect\n",
      "        MisplacedEnvelopeHeaderDefect\n",
      "        MissingHeaderBodySeparatorDefect\n",
      "        MultipartInvariantViolationDefect\n",
      "        InvalidMultipartContentTransferEncodingDefect\n",
      "        UndecodableBytesDefect\n",
      "        InvalidBase64PaddingDefect\n",
      "        InvalidBase64CharactersDefect\n",
      "        InvalidBase64LengthDefect\n",
      "        HeaderDefect\n",
      "          InvalidHeaderDefect\n",
      "          HeaderMissingRequiredValue\n",
      "          NonPrintableDefect\n",
      "          ObsoleteHeaderDefect\n",
      "          NonASCIILocalPartDefect\n",
      "          InvalidDateDefect\n",
      "      MacroToEdit\n",
      "      InvalidFileException\n",
      "      UnequalIterablesError\n",
      "      InvalidVersion\n",
      "      _InvalidELFFileHeader\n",
      "      InvalidWheelFilename\n",
      "      InvalidSdistFilename\n",
      "      InvalidSpecifier\n",
      "      InvalidMarker\n",
      "      UndefinedComparison\n",
      "      UndefinedEnvironmentName\n",
      "      InvalidRequirement\n",
      "        RequirementParseError\n",
      "      InvalidVersion\n",
      "    AssertionError\n",
      "    ArithmeticError\n",
      "      FloatingPointError\n",
      "      OverflowError\n",
      "      ZeroDivisionError\n",
      "        DivisionByZero\n",
      "        DivisionUndefined\n",
      "      DecimalException\n",
      "        Clamped\n",
      "        Rounded\n",
      "          Underflow\n",
      "          Overflow\n",
      "        Inexact\n",
      "          Underflow\n",
      "          Overflow\n",
      "        Subnormal\n",
      "          Underflow\n",
      "        DivisionByZero\n",
      "        FloatOperation\n",
      "        InvalidOperation\n",
      "          ConversionSyntax\n",
      "          DivisionImpossible\n",
      "          DivisionUndefined\n",
      "          InvalidContext\n",
      "    SystemError\n",
      "      CodecRegistryError\n",
      "    ReferenceError\n",
      "    MemoryError\n",
      "    BufferError\n",
      "    Warning\n",
      "      UserWarning\n",
      "        GetPassWarning\n",
      "        FormatterWarning\n",
      "      EncodingWarning\n",
      "      DeprecationWarning\n",
      "        ProvisionalWarning\n",
      "      PendingDeprecationWarning\n",
      "      SyntaxWarning\n",
      "      RuntimeWarning\n",
      "        ProactorSelectorThreadWarning\n",
      "        UnknownTimezoneWarning\n",
      "        PEP440Warning\n",
      "      FutureWarning\n",
      "        ProvisionalCompleterWarning\n",
      "      ImportWarning\n",
      "      UnicodeWarning\n",
      "      BytesWarning\n",
      "      ResourceWarning\n",
      "      DeprecatedTzFormatWarning\n",
      "      PkgResourcesDeprecationWarning\n",
      "    _OptionError\n",
      "    _Error\n",
      "    error\n",
      "    Verbose\n",
      "    Error\n",
      "    SubprocessError\n",
      "      CalledProcessError\n",
      "      TimeoutExpired\n",
      "    TokenError\n",
      "    StopTokenizing\n",
      "    ClassFoundException\n",
      "    EndOfBlock\n",
      "    TraitError\n",
      "    Error\n",
      "    Error\n",
      "      CancelledError\n",
      "      TimeoutError\n",
      "      InvalidStateError\n",
      "    _GiveupOnSendfile\n",
      "    error\n",
      "    Incomplete\n",
      "    TimeoutError\n",
      "    InvalidStateError\n",
      "    LimitOverrunError\n",
      "    QueueEmpty\n",
      "    QueueFull\n",
      "    Empty\n",
      "    Full\n",
      "    ArgumentError\n",
      "    ZMQBaseError\n",
      "      ZMQError\n",
      "        ContextTerminated\n",
      "        Again\n",
      "        InterruptedSystemCall\n",
      "      ZMQBindError\n",
      "      NotDone\n",
      "    PickleError\n",
      "      PicklingError\n",
      "      UnpicklingError\n",
      "    _Stop\n",
      "    ArgumentError\n",
      "    ArgumentTypeError\n",
      "    ConfigError\n",
      "      ConfigLoaderError\n",
      "        ArgumentError\n",
      "      ConfigFileNotFound\n",
      "    ConfigurableError\n",
      "      MultipleInstanceError\n",
      "    ApplicationError\n",
      "    error\n",
      "    TimeoutError\n",
      "    error\n",
      "    ReturnValueIgnoredError\n",
      "    KeyReuseError\n",
      "    UnknownKeyError\n",
      "    LeakedCallbackError\n",
      "    BadYieldError\n",
      "    ReturnValueIgnoredError\n",
      "    Return\n",
      "    InvalidPortNumber\n",
      "    error\n",
      "    LZMAError\n",
      "    RegistryError\n",
      "    _GiveupOnFastCopy\n",
      "    Error\n",
      "      NoSectionError\n",
      "      DuplicateSectionError\n",
      "      DuplicateOptionError\n",
      "      NoOptionError\n",
      "      InterpolationError\n",
      "        InterpolationMissingOptionError\n",
      "        InterpolationSyntaxError\n",
      "        InterpolationDepthError\n",
      "      ParsingError\n",
      "        MissingSectionHeaderError\n",
      "    NoIPAddresses\n",
      "    BadZipFile\n",
      "    LargeZipFile\n",
      "    BadEntryPoint\n",
      "    NoSuchEntryPoint\n",
      "    DuplicateKernelError\n",
      "    ErrorDuringImport\n",
      "    NotOneValueFound\n",
      "    CannotEval\n",
      "    OptionError\n",
      "    BdbQuit\n",
      "    Restart\n",
      "    ExceptionPexpect\n",
      "      EOF\n",
      "      TIMEOUT\n",
      "    PtyProcessError\n",
      "    FindCmdError\n",
      "    HomeDirError\n",
      "    ProfileDirError\n",
      "    IPythonCoreError\n",
      "      TryNext\n",
      "      UsageError\n",
      "      StdinNotImplementedError\n",
      "    InputRejected\n",
      "    GetoptError\n",
      "    ErrorToken\n",
      "    PrefilterError\n",
      "    AliasError\n",
      "      InvalidAliasError\n",
      "    Error\n",
      "      InterfaceError\n",
      "      DatabaseError\n",
      "        InternalError\n",
      "        OperationalError\n",
      "        ProgrammingError\n",
      "        IntegrityError\n",
      "        DataError\n",
      "        NotSupportedError\n",
      "    Warning\n",
      "    SpaceInInput\n",
      "    DOMException\n",
      "      IndexSizeErr\n",
      "      DomstringSizeErr\n",
      "      HierarchyRequestErr\n",
      "      WrongDocumentErr\n",
      "      InvalidCharacterErr\n",
      "      NoDataAllowedErr\n",
      "      NoModificationAllowedErr\n",
      "      NotFoundErr\n",
      "      NotSupportedErr\n",
      "      InuseAttributeErr\n",
      "      InvalidStateErr\n",
      "      SyntaxErr\n",
      "      InvalidModificationErr\n",
      "      NamespaceErr\n",
      "      InvalidAccessErr\n",
      "      ValidationErr\n",
      "    ValidationError\n",
      "    EditReadOnlyBuffer\n",
      "    _Retry\n",
      "    InvalidLayoutError\n",
      "    HeightIsUnknownError\n",
      "    ParserSyntaxError\n",
      "    InternalParseError\n",
      "    _PositionUpdatingFinished\n",
      "    SimpleGetItemNotFound\n",
      "    UncaughtAttributeError\n",
      "    HasNoContext\n",
      "    ParamIssue\n",
      "    _JediError\n",
      "      InternalError\n",
      "      WrongVersion\n",
      "      RefactoringError\n",
      "    OnErrorLeaf\n",
      "    InvalidPythonEnvironment\n",
      "    MessageError\n",
      "      MessageParseError\n",
      "        HeaderParseError\n",
      "        BoundaryError\n",
      "      MultipartConversionError\n",
      "      CharsetError\n",
      "    Error\n",
      "    HTTPException\n",
      "      NotConnected\n",
      "      InvalidURL\n",
      "      UnknownProtocol\n",
      "      UnknownTransferEncoding\n",
      "      UnimplementedFileMode\n",
      "      IncompleteRead\n",
      "      ImproperConnectionState\n",
      "        CannotSendRequest\n",
      "        CannotSendHeader\n",
      "        ResponseNotReady\n",
      "      BadStatusLine\n",
      "        RemoteDisconnected\n",
      "      LineTooLong\n",
      "    InteractivelyDefined\n",
      "    KillEmbedded\n",
      "    Error\n",
      "      NoSuchProcess\n",
      "        ZombieProcess\n",
      "      AccessDenied\n",
      "      TimeoutExpired\n",
      "    _Ipv6UnsupportedError\n",
      "    QueueEmpty\n",
      "    QueueFull\n",
      "    DebuggerInitializationError\n",
      "    ExpatError\n",
      "    Error\n",
      "      ProtocolError\n",
      "      ResponseError\n",
      "      Fault\n",
      "    ParseBaseException\n",
      "      ParseException\n",
      "      ParseFatalException\n",
      "        ParseSyntaxException\n",
      "    RecursiveGrammarException\n",
      "    ResolutionError\n",
      "      VersionConflict\n",
      "        ContextualVersionConflict\n",
      "      DistributionNotFound\n",
      "      UnknownExtra\n",
      "    _Error\n",
      "    UnableToResolveVariableException\n",
      "    InvalidTypeInArgsException\n",
      "  GeneratorExit\n",
      "  SystemExit\n",
      "  KeyboardInterrupt\n",
      "  CancelledError\n",
      "  AbortThread\n"
     ]
    }
   ],
   "source": [
    "def print_exception_hierarchy(exception_class, indent=0):\n",
    "    print(\" \" * indent + exception_class.__name__)\n",
    "    for subclass in exception_class.__subclasses__():\n",
    "        print_exception_hierarchy(subclass, indent + 2)\n",
    "\n",
    "print_exception_hierarchy(BaseException)"
   ]
  },
  {
   "cell_type": "markdown",
   "id": "a46757eb-cc4c-46c1-be17-6b081b888538",
   "metadata": {},
   "source": [
    "## Q3. What errors are defined in the ArithmeticError class? Explain any two with an example."
   ]
  },
  {
   "cell_type": "markdown",
   "id": "50c493e0-7472-435f-90fa-f642ac65d8ea",
   "metadata": {},
   "source": [
    "## Ans:"
   ]
  },
  {
   "cell_type": "markdown",
   "id": "ac114a63-6d70-4e95-a76a-088fd4b04e85",
   "metadata": {},
   "source": [
    "The ArithmeticError class is a base class for exceptions that arise from arithmetic operations. It serves as a parent class for specific arithmetic-related exception classes, each representing a distinct error scenario that can occur during arithmetic computations. ArithmeticError is part of the Python exception hierarchy and is extended by more specific exception classes."
   ]
  },
  {
   "cell_type": "markdown",
   "id": "6fbe00f7-2061-4c2e-9974-fb76a1858642",
   "metadata": {},
   "source": [
    "Two specific exceptions that inherit from ArithmeticError are:\n",
    "\n",
    "1. ZeroDivisionError: This exception is raised when division or modulo operation is performed with a divisor of zero."
   ]
  },
  {
   "cell_type": "code",
   "execution_count": 2,
   "id": "1e3d027c-3e0b-4d9a-8e52-c42baa3107eb",
   "metadata": {},
   "outputs": [
    {
     "name": "stdout",
     "output_type": "stream",
     "text": [
      "Error: Division by zero.\n"
     ]
    }
   ],
   "source": [
    "try:\n",
    "    result = 10 / 0  # This will raise a ZeroDivisionError\n",
    "except ZeroDivisionError:\n",
    "    print(\"Error: Division by zero.\")"
   ]
  },
  {
   "cell_type": "markdown",
   "id": "eaec6b32-a3b4-4d65-b305-1ff18295d89b",
   "metadata": {},
   "source": [
    "2. OverflowError: This exception is raised when an arithmetic operation exceeds the limits of the data type, causing an overflow"
   ]
  },
  {
   "cell_type": "code",
   "execution_count": 3,
   "id": "5bbe2880-7425-4a51-a976-3d0e3ed3fe2c",
   "metadata": {},
   "outputs": [],
   "source": [
    "import sys\n",
    "\n",
    "try:\n",
    "    big_number = sys.maxsize + 1\n",
    "    result = big_number * 2  # This may raise an OverflowError\n",
    "except OverflowError:\n",
    "    print(\"Error: Arithmetic operation caused an overflow.\")"
   ]
  },
  {
   "cell_type": "markdown",
   "id": "135a40ef-cee4-463d-bdc9-964f989380fe",
   "metadata": {},
   "source": [
    "## Q4. Why LookupError class is used? Explain with an example KeyError and IndexError."
   ]
  },
  {
   "cell_type": "markdown",
   "id": "c8aa433a-b816-40d5-8003-cc7e3afb4e59",
   "metadata": {},
   "source": [
    "## Ans:"
   ]
  },
  {
   "cell_type": "markdown",
   "id": "0f9286d8-d9ed-4ff4-a70d-e06b4922775b",
   "metadata": {},
   "source": [
    "The LookupError class is a base class for exceptions that occur when a specified key or index is not found during a lookup operation in a collection-like object, such as a dictionary or a list. It provides a common base for more specific exceptions like KeyError and IndexError, allowing you to catch these types of errors more generally."
   ]
  },
  {
   "cell_type": "markdown",
   "id": "fddaca1d-0077-42f1-920d-57b2a24299f4",
   "metadata": {},
   "source": [
    "1. KeyError"
   ]
  },
  {
   "cell_type": "code",
   "execution_count": 4,
   "id": "6f48d465-3469-4f44-96ad-d3fa2834556b",
   "metadata": {},
   "outputs": [
    {
     "name": "stdout",
     "output_type": "stream",
     "text": [
      "Error: Key not found in the dictionary.\n"
     ]
    }
   ],
   "source": [
    "my_dict = {\"apple\": \"red\", \"banana\": \"yellow\", \"grape\": \"purple\"}\n",
    "\n",
    "try:\n",
    "    color = my_dict[\"orange\"]  # This will raise a KeyError\n",
    "except KeyError:\n",
    "    print(\"Error: Key not found in the dictionary.\")"
   ]
  },
  {
   "cell_type": "markdown",
   "id": "5272a7a7-cf47-45e2-9197-752fc7e0ff1b",
   "metadata": {},
   "source": [
    "2. IndexError"
   ]
  },
  {
   "cell_type": "code",
   "execution_count": 5,
   "id": "732c3473-1d73-42ae-a1c3-b6552b39c1c9",
   "metadata": {},
   "outputs": [
    {
     "name": "stdout",
     "output_type": "stream",
     "text": [
      "Error: Index out of range.\n"
     ]
    }
   ],
   "source": [
    "my_list = [1, 2, 3, 4, 5]\n",
    "\n",
    "try:\n",
    "    value = my_list[10]  # This will raise an IndexError\n",
    "except IndexError:\n",
    "    print(\"Error: Index out of range.\")"
   ]
  },
  {
   "cell_type": "markdown",
   "id": "9cd637af-c57d-4e31-a6b4-dae6fee92eb4",
   "metadata": {},
   "source": [
    "## Q5. Explain ImportError. What is ModuleNotFoundError?"
   ]
  },
  {
   "cell_type": "markdown",
   "id": "31a21327-3a95-455f-984b-95683d31ae14",
   "metadata": {},
   "source": [
    "## Ans:"
   ]
  },
  {
   "cell_type": "markdown",
   "id": "9bd1364d-47f2-4a88-9c7b-d6265ec74b69",
   "metadata": {},
   "source": [
    "ImportError is an exception in Python that is raised when an import statement fails to import a module or name. It occurs when Python cannot locate or load the module you are trying to import. This exception is a part of the standard exception hierarchy in Python and is commonly used to handle import-related errors"
   ]
  },
  {
   "cell_type": "code",
   "execution_count": 6,
   "id": "c17578af-b1f4-40bb-8a2b-755fa57b474e",
   "metadata": {},
   "outputs": [
    {
     "name": "stdout",
     "output_type": "stream",
     "text": [
      "Error: Module could not be imported.\n"
     ]
    }
   ],
   "source": [
    "try:\n",
    "    import non_existent_module\n",
    "except ImportError:\n",
    "    print(\"Error: Module could not be imported.\")"
   ]
  },
  {
   "cell_type": "markdown",
   "id": "a0301774-46c8-4939-a8db-125a2e6fa87e",
   "metadata": {},
   "source": [
    "Starting from Python 3.6, a more specific exception called ModuleNotFoundError was introduced to provide a clearer and more informative error message when a module cannot be found."
   ]
  },
  {
   "cell_type": "code",
   "execution_count": 7,
   "id": "dcde59e7-f2fc-44f1-9e4d-2cb180cf776e",
   "metadata": {},
   "outputs": [
    {
     "name": "stdout",
     "output_type": "stream",
     "text": [
      "Error: Module could not be imported.\n"
     ]
    }
   ],
   "source": [
    "try:\n",
    "    import non_existent_module\n",
    "except ImportError:\n",
    "    print(\"Error: Module could not be imported.\")"
   ]
  },
  {
   "cell_type": "markdown",
   "id": "aac381dd-72ab-42f1-9cdc-0644e10c756d",
   "metadata": {},
   "source": [
    "While both ImportError and ModuleNotFoundError can be used to handle import-related errors, it's a good practice to use ModuleNotFoundError when you want to specifically catch cases where the module is not found, as it offers better clarity and specificity. However, if you want to catch a broader range of import-related errors (e.g., errors related to names within a module), using ImportError is still valid."
   ]
  },
  {
   "cell_type": "markdown",
   "id": "6f2cc9e6-da8b-4444-849b-01b695c15458",
   "metadata": {},
   "source": [
    "## Q6. List down some best practices for exception handling in python."
   ]
  },
  {
   "cell_type": "markdown",
   "id": "24a46087-0aec-4cf5-b80d-b7246d38d839",
   "metadata": {},
   "source": [
    "## Ans:"
   ]
  },
  {
   "cell_type": "markdown",
   "id": "3948721d-9649-497e-97fb-863b315d48d5",
   "metadata": {},
   "source": [
    "1. We need to use always a specific exception not invoking generic 'Exception' keyword.\n",
    "2. We should print always a valid message.\n",
    "3. We sould always try to use logging module.\n",
    "4. We should always avoid to write a multiple exception handling.\n",
    "5. We should prepare a proper documnetation.\n",
    "6. We should cleanup all the resources ."
   ]
  }
 ],
 "metadata": {
  "kernelspec": {
   "display_name": "Python 3 (ipykernel)",
   "language": "python",
   "name": "python3"
  },
  "language_info": {
   "codemirror_mode": {
    "name": "ipython",
    "version": 3
   },
   "file_extension": ".py",
   "mimetype": "text/x-python",
   "name": "python",
   "nbconvert_exporter": "python",
   "pygments_lexer": "ipython3",
   "version": "3.10.8"
  }
 },
 "nbformat": 4,
 "nbformat_minor": 5
}
