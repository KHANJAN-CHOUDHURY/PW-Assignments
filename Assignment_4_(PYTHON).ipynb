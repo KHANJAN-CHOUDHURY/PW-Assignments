{
 "cells": [
  {
   "cell_type": "markdown",
   "id": "4ac9a782-ccb0-4e7a-beb5-7b13c73e4a76",
   "metadata": {},
   "source": [
    "# Lambda, Map, Filter, Reduce"
   ]
  },
  {
   "cell_type": "markdown",
   "id": "f7b9f5fb-75d4-4da4-8bee-fdbf1d16ed18",
   "metadata": {},
   "source": [
    "## Q1. Create a python program to sort the given list of tuples based on integer value using a lambda function. \n",
    "[('Sachin Tendulkar', 34357), ('Ricky Ponting', 27483), ('Jack Kallis', 25534), ('Virat Kohli', 24936)]"
   ]
  },
  {
   "cell_type": "markdown",
   "id": "c8d956fd-3672-4403-af0f-08acf4484f2f",
   "metadata": {},
   "source": [
    "## Ans:"
   ]
  },
  {
   "cell_type": "code",
   "execution_count": 1,
   "id": "250dac31-46e6-430c-bffe-761574366f5b",
   "metadata": {},
   "outputs": [
    {
     "name": "stdout",
     "output_type": "stream",
     "text": [
      "[('Virat Kohli', 24936), ('Jack Kallis', 25534), ('Ricky Ponting', 27483), ('Sachin Tendulkar', 34357)]\n"
     ]
    }
   ],
   "source": [
    "lst = [('Sachin Tendulkar', 34357), ('Ricky Ponting', 27483), ('Jack Kallis', 25534), ('Virat Kohli', 24936)]\n",
    "sorted_list = sorted(lst,key = lambda x:x[1])\n",
    "print(sorted_list)"
   ]
  },
  {
   "cell_type": "markdown",
   "id": "89be8bdd-0750-4b1d-ae31-7c232d08281a",
   "metadata": {},
   "source": [
    "## Q2. Write a Python Program to find the squares of all the numbers in the given list of integers using lambda and map functions.\n",
    "[1, 2, 3, 4, 5, 6, 7, 8, 9, 10]"
   ]
  },
  {
   "cell_type": "markdown",
   "id": "0ea57a4e-d479-4ce3-8545-5536730556fe",
   "metadata": {},
   "source": [
    "## Ans:"
   ]
  },
  {
   "cell_type": "code",
   "execution_count": 2,
   "id": "d3650c60-eeb1-417e-af78-c67d3a16a509",
   "metadata": {},
   "outputs": [
    {
     "name": "stdout",
     "output_type": "stream",
     "text": [
      "[1, 4, 9, 16, 25, 36, 49, 64, 81, 100]\n"
     ]
    }
   ],
   "source": [
    "lst1 = [1, 2, 3, 4, 5, 6, 7, 8, 9, 10]\n",
    "square = lambda x:x**2\n",
    "sq_lst = list(map(square,lst1))\n",
    "print(sq_lst)"
   ]
  },
  {
   "cell_type": "markdown",
   "id": "956800ed-059f-48c3-a202-5c128d81f178",
   "metadata": {},
   "source": [
    "## Q3. Write a python program to convert the given list of integers into a tuple of strings. Use map and lambda functions\n",
    "Given String: [1, 2, 3, 4, 5, 6, 7, 8, 9, 10] \\\n",
    "Expected output: ('1', '2', '3', '4', '5', '6', '7', '8', '9', '10')"
   ]
  },
  {
   "cell_type": "markdown",
   "id": "18132c0d-e842-4200-b26e-2ec6c6798d26",
   "metadata": {},
   "source": [
    "## Ans:"
   ]
  },
  {
   "cell_type": "code",
   "execution_count": 3,
   "id": "d5beebd0-57d3-4b16-8bee-2043e1b3f669",
   "metadata": {},
   "outputs": [
    {
     "name": "stdout",
     "output_type": "stream",
     "text": [
      "('1', '2', '3', '4', '5', '6', '7', '8', '9', '10')\n"
     ]
    }
   ],
   "source": [
    "lst2 = [1, 2, 3, 4, 5, 6, 7, 8, 9, 10]\n",
    "int_to_str = lambda x:str(x)\n",
    "str_tup = tuple(map(int_to_str,lst2))\n",
    "print(str_tup)"
   ]
  },
  {
   "cell_type": "markdown",
   "id": "262915d6-df7c-487d-8017-756844ec073c",
   "metadata": {},
   "source": [
    "## Q4. Write a python program using reduce function to compute the product of a list containing numbers from 1 to 25."
   ]
  },
  {
   "cell_type": "markdown",
   "id": "7b85524b-fccd-448e-9fd1-637c9b27d039",
   "metadata": {},
   "source": [
    "## Ans:"
   ]
  },
  {
   "cell_type": "code",
   "execution_count": 5,
   "id": "19633ba4-0915-4247-8ea8-ab7f82510997",
   "metadata": {},
   "outputs": [
    {
     "name": "stdout",
     "output_type": "stream",
     "text": [
      "[1, 2, 3, 4, 5, 6, 7, 8, 9, 10, 11, 12, 13, 14, 15, 16, 17, 18, 19, 20, 21, 22, 23, 24, 25]\n",
      "Product of all the numbers: 15511210043330985984000000\n"
     ]
    }
   ],
   "source": [
    "from functools import reduce\n",
    "lst3 = [x for x in range(1,26)]\n",
    "print(lst3)\n",
    "a = reduce(lambda x,y:x*y,lst3)\n",
    "print('Product of all the numbers:',a)"
   ]
  },
  {
   "cell_type": "markdown",
   "id": "5ff7655d-1209-466c-828a-30d6e24d103b",
   "metadata": {},
   "source": [
    "## Q5. Write a python program to filter the numbers in a given list that are divisible by 2 and 3 using the filter function.\n",
    "[2, 3, 6, 9, 27, 60, 90, 120, 55, 46]"
   ]
  },
  {
   "cell_type": "code",
   "execution_count": 12,
   "id": "3d627939-dc19-4f4f-a8a1-66c3556e8e13",
   "metadata": {},
   "outputs": [
    {
     "name": "stdout",
     "output_type": "stream",
     "text": [
      "[6, 60, 90, 120]\n"
     ]
    }
   ],
   "source": [
    "lst4 = [2, 3, 6, 9, 27, 60, 90, 120, 55, 46]\n",
    "a = list(filter(lambda x: x % 2 ==0 and x % 3 == 0,lst4))\n",
    "print(a)"
   ]
  },
  {
   "cell_type": "markdown",
   "id": "6c633f45-6890-4cd0-acdd-a4664edb6467",
   "metadata": {},
   "source": [
    "## Q6. Write a python program to find palindromes in the given list of strings using lambda and filter function.\n",
    "['python', 'php', 'aba', 'radar', 'level']"
   ]
  },
  {
   "cell_type": "code",
   "execution_count": 18,
   "id": "4b6415e3-5fc5-4188-8e07-0e5421e871e7",
   "metadata": {},
   "outputs": [
    {
     "name": "stdout",
     "output_type": "stream",
     "text": [
      "[6, 60, 90, 120]\n"
     ]
    }
   ],
   "source": [
    "lst5 = ['python', 'php', 'aba', 'radar', 'level']\n",
    "b = list(filter(lambda x: x == x[::-1],lst5))\n",
    "print(a)"
   ]
  },
  {
   "cell_type": "code",
   "execution_count": null,
   "id": "79313921-6e30-4b70-88bf-ceeeb890fd25",
   "metadata": {},
   "outputs": [],
   "source": []
  }
 ],
 "metadata": {
  "kernelspec": {
   "display_name": "Python 3 (ipykernel)",
   "language": "python",
   "name": "python3"
  },
  "language_info": {
   "codemirror_mode": {
    "name": "ipython",
    "version": 3
   },
   "file_extension": ".py",
   "mimetype": "text/x-python",
   "name": "python",
   "nbconvert_exporter": "python",
   "pygments_lexer": "ipython3",
   "version": "3.10.8"
  }
 },
 "nbformat": 4,
 "nbformat_minor": 5
}
