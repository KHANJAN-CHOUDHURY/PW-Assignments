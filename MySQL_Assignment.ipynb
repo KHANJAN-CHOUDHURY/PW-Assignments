{
 "cells": [
  {
   "cell_type": "markdown",
   "id": "ecacdcb1-1915-440b-aa13-791c0bf6b84c",
   "metadata": {},
   "source": [
    "## Q1. What is a database? Differentiate between SQL and NoSQL databases."
   ]
  },
  {
   "cell_type": "markdown",
   "id": "df42fe7f-2919-425e-aa7f-cb64ef18147c",
   "metadata": {},
   "source": [
    "## Ans:"
   ]
  },
  {
   "cell_type": "markdown",
   "id": "8cb69381-3411-4366-adf7-b27ef5db0019",
   "metadata": {},
   "source": [
    "A database is a structured collection of data that is organized and stored in a way that allows for efficient retrieval, management, and manipulation of information. The differences between SQL and NoSQL databases are:"
   ]
  },
  {
   "cell_type": "markdown",
   "id": "53f0a5a1-1741-439a-91e7-baa25b5e72a8",
   "metadata": {},
   "source": [
    "1. SQL has defined schema with rigid structure. On the other hand NoSQL has no fixed schema, making them adaptable to changing data structures."
   ]
  },
  {
   "cell_type": "markdown",
   "id": "827e37ff-43a4-47f5-a812-803370ca95e4",
   "metadata": {},
   "source": [
    "2. SQL databases use SQL (Structured Query Language) for querying and manipulating data. SQL provides a standardized way to interact with the database. On the other hand, Different NoSQL databases use different query languages or APIs, as there's no standardized query language like SQL for all NoSQL databases."
   ]
  },
  {
   "cell_type": "markdown",
   "id": "95595935-3cd6-46c0-80a0-2c76da5bc5c8",
   "metadata": {},
   "source": [
    "3. SQL databases enforce data integrity through constraints like primary keys, foreign keys, and data types, ensuring accurate and consistent data. On the other hand, NoSQL databases often prioritize scalability and availability over strict data integrity. Some provide eventual consistency rather than immediate consistency."
   ]
  },
  {
   "cell_type": "markdown",
   "id": "035c5141-6d4f-4e5d-9e3d-39ff8dc5fddf",
   "metadata": {},
   "source": [
    "4. SQL databases use a structured, tabular data model with rows and columns to represent data relationships. On the other hand, NoSQL databases offer various data models, including document-based, key-value, column-family, and graph models, to accommodate diverse data structures."
   ]
  },
  {
   "cell_type": "markdown",
   "id": "21274be6-7396-406a-8798-0db9e0ce7948",
   "metadata": {},
   "source": [
    "5. SQL databases support ACID transactions (Atomicity, Consistency, Isolation, Durability), which guarantee data consistency and reliability. On the other hand, NoSQL databases might not provide full ACID transactions, especially in scenarios where availability and partition tolerance take precedence (CAP theorem)."
   ]
  },
  {
   "cell_type": "markdown",
   "id": "e39d65c4-8bfd-4eb8-b4e6-bc6271ca81a2",
   "metadata": {},
   "source": [
    "6. SQL databases are generally better suited for vertical scalability (upgrading hardware resources) rather than horizontal scalability. On the other hand, NoSQL databases are designed for horizontal scalability, enabling them to handle massive amounts of data and high traffic loads effectively."
   ]
  },
  {
   "cell_type": "markdown",
   "id": "9763cb0c-379e-4102-83e9-ba1b3a692100",
   "metadata": {},
   "source": [
    "## Q2. What is DDL? Explain why CREATE, DROP, ALTER, and TRUNCATE are used with an example."
   ]
  },
  {
   "cell_type": "markdown",
   "id": "38d46230-a523-4da9-b1b2-85c457908658",
   "metadata": {},
   "source": [
    "## Ans:"
   ]
  },
  {
   "cell_type": "markdown",
   "id": "f93694b6-efcb-4d6e-9790-2bf740c436e2",
   "metadata": {},
   "source": [
    "DDL (Data Definition Language) is a subset of SQL (Structured Query Language) used to define, manage, and manipulate the structure of a database and its objects. DDL statements are responsible for creating, modifying, and deleting database objects such as tables, indexes, and views. DDL statements do not manipulate the data within the database; they focus on defining the database's structure."
   ]
  },
  {
   "cell_type": "markdown",
   "id": "87dfc986-6070-4c58-ad99-64e9f0605009",
   "metadata": {},
   "source": [
    "1. CREATE: The CREATE statement is used to create new database objects, such as tables, indexes, or views. \\\n",
    "CREATE TABLE Employees (\\\n",
    "    EmployeeID INT PRIMARY KEY,\\\n",
    "    FirstName VARCHAR(50),\\\n",
    "    LastName VARCHAR(50),\\\n",
    "    Department VARCHAR(100)\\\n",
    ");"
   ]
  },
  {
   "cell_type": "markdown",
   "id": "4ce69a51-ec01-4364-a740-704b63f7adc6",
   "metadata": {},
   "source": [
    "2. DROP: The DROP statement is used to remove existing database objects.\\\n",
    "DROP TABLE Employees;"
   ]
  },
  {
   "cell_type": "markdown",
   "id": "661ad1f0-d924-4268-8230-1ebd5f30d811",
   "metadata": {},
   "source": [
    "3. ALTER: The ALTER statement is used to modify the structure of an existing database object, such as adding, modifying, or dropping columns.\\\n",
    "ALTER TABLE Employees \\\n",
    "ADD Salary DECIMAL(10, 2); "
   ]
  },
  {
   "cell_type": "markdown",
   "id": "5172ae7c-d62e-4a8f-9cba-25e7d5c86979",
   "metadata": {},
   "source": [
    "4. TRUNCATE: The TRUNCATE statement is used to remove all rows from a table, effectively resetting the table's data without deleting the table itself. \\\n",
    "TRUNCATE TABLE Employees;"
   ]
  },
  {
   "cell_type": "markdown",
   "id": "f7281005-043b-4d80-a536-5fd1449a2cb5",
   "metadata": {},
   "source": [
    "## Q3. What is DML? Explain INSERT, UPDATE, and DELETE with an example."
   ]
  },
  {
   "cell_type": "markdown",
   "id": "86ff588c-bb63-4ef0-986b-3079cb7efd31",
   "metadata": {},
   "source": [
    "## Ans:"
   ]
  },
  {
   "cell_type": "markdown",
   "id": "2ea2b82e-08b8-48c9-8878-cfea72f2e221",
   "metadata": {},
   "source": [
    "DML (Data Manipulation Language) is a subset of SQL (Structured Query Language) used to manipulate the data stored within the database objects that are defined using DDL (Data Definition Language). DML statements are responsible for adding, modifying, and deleting data in the database tables."
   ]
  },
  {
   "cell_type": "markdown",
   "id": "e2d10cac-ebf9-42a6-b205-6582e573c3ba",
   "metadata": {},
   "source": [
    "1. INSERT: The INSERT statement is used to add new rows of data into a table.\\\n",
    "INSERT INTO Employees (EmployeeID, FirstName, LastName, Department)\\\n",
    "VALUES (1, 'John', 'Doe', 'Sales');"
   ]
  },
  {
   "cell_type": "markdown",
   "id": "d90f9bf5-c72c-4ab1-85fc-eca25d7f735d",
   "metadata": {},
   "source": [
    "2. UPDATE: The UPDATE statement is used to modify existing data in a table.\\\n",
    "UPDATE Employees SET Department = 'Marketing' WHERE EmployeeID = 1;"
   ]
  },
  {
   "cell_type": "markdown",
   "id": "135bfb71-9fb1-4ddd-b2c7-8d0adb138593",
   "metadata": {},
   "source": [
    "3. DELETE: The DELETE statement is used to remove rows from a table.\\\n",
    "DELETE FROM Employees WHERE EmployeeID = 1; "
   ]
  },
  {
   "cell_type": "markdown",
   "id": "a020bb5f-dbb5-410e-9104-ea86ca49f9f9",
   "metadata": {},
   "source": [
    "## Q4. What is DQL? Explain SELECT with an example."
   ]
  },
  {
   "cell_type": "markdown",
   "id": "598d105b-ec0c-4320-a4f8-87fd6a1c8b2e",
   "metadata": {},
   "source": [
    "## Ans:"
   ]
  },
  {
   "cell_type": "markdown",
   "id": "cc3ba859-7b94-4e68-949b-e480fde28320",
   "metadata": {},
   "source": [
    "DQL (Data Query Language) is a subset of SQL (Structured Query Language) used to retrieve data from a database. DQL is focused on querying the database to extract specific information that meets certain criteria. The primary DQL statement is the SELECT statement, which allows you to retrieve data from one or more tables based on specified conditions."
   ]
  },
  {
   "cell_type": "markdown",
   "id": "df07a024-4148-40f5-8aca-21caca9f8643",
   "metadata": {},
   "source": [
    "SELECT: The SELECT statement is used to retrieve data from one or more tables. It allows you to specify the columns you want to retrieve, conditions to filter data, sorting order, and more.\\\n",
    "SELECT FirstName, LastName, Department FROM Employees WHERE Department = 'Sales';"
   ]
  },
  {
   "cell_type": "markdown",
   "id": "26ede100-c5d9-4ad9-a8fb-393e47cdc3cc",
   "metadata": {},
   "source": [
    "## Q5. Explain Primary Key and Foreign Key."
   ]
  },
  {
   "cell_type": "markdown",
   "id": "43948cd6-0375-40b9-aadb-931f3bb2e83f",
   "metadata": {},
   "source": [
    "## Ans:"
   ]
  },
  {
   "cell_type": "markdown",
   "id": "649032d9-e13d-4b6d-baf3-7a8084a818c1",
   "metadata": {},
   "source": [
    "1. Primary key:\\\n",
    "A primary key is a column or a set of columns in a database table that uniquely identifies each row in that table. It serves as a unique identifier for the records within the table and ensures data integrity and consistency. Each primary key value must be unique and not null. Primary keys are crucial for establishing relationships between tables and for enforcing data integrity constraints."
   ]
  },
  {
   "cell_type": "markdown",
   "id": "a6963efc-b6fb-4c35-b46e-99c251ddb049",
   "metadata": {},
   "source": [
    "2. Foreign Key:\\\n",
    "A foreign key is a column or a set of columns in a table that establishes a link between data in two tables. It represents a relationship between the data in the table containing the foreign key and the referenced table. The foreign key column(s) in one table typically reference the primary key column(s) in another table. This relationship helps maintain data integrity and supports the concept of data normalization."
   ]
  },
  {
   "cell_type": "markdown",
   "id": "51e1d36d-7d1f-46e6-937f-48c527fe81ae",
   "metadata": {},
   "source": [
    "## Q6. Write a python code to connect MySQL to python. Explain the cursor() and execute() method."
   ]
  },
  {
   "cell_type": "markdown",
   "id": "a8e52322-99e4-4a81-b640-27ae296d01bb",
   "metadata": {},
   "source": [
    "## Ans:"
   ]
  },
  {
   "cell_type": "code",
   "execution_count": null,
   "id": "24fc2866-8529-44c4-a0b8-14754108d10f",
   "metadata": {},
   "outputs": [],
   "source": [
    "import mysql.connector\n",
    "\n",
    "# Establishing a connection to the MySQL database\n",
    "# Replace 'username', 'password', 'host', and 'database_name' with appropriate values\n",
    "connection = mysql.connector.connect(\n",
    "    user='username',\n",
    "    password='password',\n",
    "    host='host',\n",
    "    database='database_name'\n",
    ")\n",
    "\n",
    "# Creating a cursor object\n",
    "cursor = connection.cursor()\n",
    "\n",
    "# Executing a SQL query using the execute() method\n",
    "query = \"SELECT * FROM employees\"\n",
    "cursor.execute(query)\n",
    "\n",
    "# Fetching the result using fetchall() method\n",
    "result = cursor.fetchall()\n",
    "\n",
    "# Displaying the fetched data\n",
    "for row in result:\n",
    "    print(row)\n",
    "\n",
    "# Closing the cursor and the connection\n",
    "cursor.close()\n",
    "connection.close()"
   ]
  },
  {
   "cell_type": "markdown",
   "id": "abd72836-595f-4196-a733-071182c4f4c4",
   "metadata": {},
   "source": [
    "1. cursor():\\\n",
    "The cursor() method is used to create a cursor object. A cursor acts as a control structure that allows us to execute SQL queries and fetch results from the database. It acts as a reference to a specific location within the result set of a query. The cursor object provides methods for executing queries and fetching data."
   ]
  },
  {
   "cell_type": "markdown",
   "id": "af689e02-374f-4388-a7b7-a14925643616",
   "metadata": {},
   "source": [
    "2. execute(query):\\\n",
    "The execute() method is used to execute an SQL query. It takes an SQL query string as its parameter and executes the query on the database. The query can be a SELECT, INSERT, UPDATE, or any other valid SQL statement. Once the query is executed, the cursor is positioned at the beginning of the result set (if applicable)."
   ]
  },
  {
   "cell_type": "markdown",
   "id": "200516bc-2bc4-427c-a232-2e05ef7529dd",
   "metadata": {},
   "source": [
    "## Q7. Give the order of execution of SQL clauses in an SQL query."
   ]
  },
  {
   "cell_type": "markdown",
   "id": "2fb7fa54-cb4a-41ac-ad65-4c573ae12812",
   "metadata": {},
   "source": [
    "## Ans:"
   ]
  },
  {
   "cell_type": "markdown",
   "id": "1e74bf7b-36bb-4943-81f4-df252b84ef31",
   "metadata": {},
   "source": [
    "The order of execution of SQL clauses is as follows:"
   ]
  },
  {
   "cell_type": "markdown",
   "id": "49943c9f-d6ee-41ab-a745-15bae031137e",
   "metadata": {},
   "source": [
    "1. SELECT: The SELECT clause is used to specify the columns you want to retrieve from the database.\n",
    "\n",
    "2. FROM: The FROM clause specifies the table(s) from which you want to retrieve the data. This is the source of the data for your query.\n",
    "\n",
    "3.WHERE: The WHERE clause is used to filter rows based on specified conditions. It narrows down the result set by selecting only the rows that satisfy the given conditions.\n",
    "\n",
    "    GROUP BY: The GROUP BY clause is used to group the rows in the result set based on one or more columns. It's often used in combination with aggregate functions like SUM, AVG, etc.\n",
    "\n",
    "    HAVING: The HAVING clause filters the groups created by the GROUP BY clause based on conditions. It's used to further filter the grouped results.\n",
    "\n",
    "    ORDER BY: The ORDER BY clause is used to sort the result set based on one or more columns. You can specify the sorting order as ascending (ASC) or descending (DESC).\n",
    "\n",
    "    LIMIT/OFFSET (Optional): The LIMIT clause restricts the number of rows returned in the result set. In databases that support it, the OFFSET clause can be used to skip a certain number of rows before starting to retrieve rows."
   ]
  }
 ],
 "metadata": {
  "kernelspec": {
   "display_name": "Python 3 (ipykernel)",
   "language": "python",
   "name": "python3"
  },
  "language_info": {
   "codemirror_mode": {
    "name": "ipython",
    "version": 3
   },
   "file_extension": ".py",
   "mimetype": "text/x-python",
   "name": "python",
   "nbconvert_exporter": "python",
   "pygments_lexer": "ipython3",
   "version": "3.10.8"
  }
 },
 "nbformat": 4,
 "nbformat_minor": 5
}
