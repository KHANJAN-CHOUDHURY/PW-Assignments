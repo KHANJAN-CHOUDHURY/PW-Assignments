{
 "cells": [
  {
   "cell_type": "markdown",
   "id": "e231fa0b-6eb0-484a-b81f-6a916fbb03c9",
   "metadata": {},
   "source": [
    "## Q1. Explain GET and POST methods."
   ]
  },
  {
   "cell_type": "markdown",
   "id": "14fd5235-4bdb-4b34-9151-38de6ca84b9d",
   "metadata": {},
   "source": [
    "## Ans:"
   ]
  },
  {
   "cell_type": "markdown",
   "id": "d56a17c4-5d97-4175-9737-c298964f1012",
   "metadata": {},
   "source": [
    "1. GET Method:\\\n",
    "The GET method is used to request data from a specified resource. When we type a URL into our browser's address bar and hit Enter, we are typically making a GET request to the server to retrieve a web page. In Flask, we can handle GET requests using route decorators."
   ]
  },
  {
   "cell_type": "code",
   "execution_count": null,
   "id": "201cc5a9-ba24-407b-9820-89bd85133acf",
   "metadata": {},
   "outputs": [],
   "source": [
    "from flask import Flask, request\n",
    "\n",
    "app = Flask(__name__)\n",
    "\n",
    "@app.route('/hello', methods=['GET'])\n",
    "def hello():\n",
    "    return \"Hello, GET request received!\""
   ]
  },
  {
   "cell_type": "markdown",
   "id": "8652811e-915f-4559-9b3a-a2c04c45a58e",
   "metadata": {},
   "source": [
    "2. POST Method:\\\n",
    "The POST method is used to submit data to be processed to a specified resource. It's commonly used when we want to send data to the server, such as form submissions or sending data to create a new resource on the server. In Flask, we can handle POST requests in a similar manner to GET requests, but we will need to access the data sent by the client."
   ]
  },
  {
   "cell_type": "code",
   "execution_count": null,
   "id": "1dccd33a-88ec-4e2d-ab57-b385ba525292",
   "metadata": {},
   "outputs": [],
   "source": [
    "from flask import Flask, request\n",
    "\n",
    "app = Flask(__name__)\n",
    "\n",
    "@app.route('/submit', methods=['POST'])\n",
    "def submit():\n",
    "    data = request.form.get('data')  # Access data sent in the request\n",
    "    return f\"Data received: {data}\"\n"
   ]
  },
  {
   "cell_type": "markdown",
   "id": "860d2961-1c28-4ca8-bf1f-55d21fdfa80b",
   "metadata": {},
   "source": [
    "## Q2. Why is request used in Flask?"
   ]
  },
  {
   "cell_type": "markdown",
   "id": "0291caa5-8e76-407b-90da-878c85fae8f2",
   "metadata": {},
   "source": [
    "## Ans:"
   ]
  },
  {
   "cell_type": "markdown",
   "id": "fa47b1da-335a-43ea-8629-e0889aa16175",
   "metadata": {},
   "source": [
    "In Flask, the request object is a crucial part of handling incoming HTTP requests. It provides a way to access the data sent by the client to the server as part of the HTTP request. This data can include things like form data, query parameters, JSON payloads, cookies, headers, and more. The request object essentially encapsulates all the information about an incoming request, making it easy for developers to work with the data being sent to the server."
   ]
  },
  {
   "cell_type": "markdown",
   "id": "b258ee8a-a9b3-42d5-b04a-41cd02710213",
   "metadata": {},
   "source": [
    "Here are a few reasons why the request object is used in Flask:\n",
    "\n",
    "1. Accessing Data: When a client (such as a web browser or a mobile app) sends data to a Flask server, that data needs to be processed. The request object allows developers to access various components of the incoming data, such as form fields, query parameters, and JSON payloads.\n",
    "\n",
    "2. Handling Different HTTP Methods: The request object allows developers to determine which HTTP method was used in the request (GET, POST, PUT, DELETE, etc.). This information is vital for routing the request to the appropriate function and handling the request accordingly.\n",
    "\n",
    "3. Handling Forms and Files: Many web applications involve submitting forms that contain user data or files. The request object helps in accessing form data, uploaded files, and any associated metadata.\n",
    "\n",
    "4. Query Parameters: For GET requests, query parameters can be sent as part of the URL. The request object enables the extraction of these query parameters for further processing.\n",
    "\n",
    "5. Cookies and Headers: The request object allows access to cookies sent by the client, as well as various HTTP headers, which can contain important information about the request or client.\n",
    "\n",
    "6. JSON Data: With the rise of RESTful APIs, sending and receiving JSON data has become common. The request object facilitates the extraction of JSON payloads from incoming requests."
   ]
  },
  {
   "cell_type": "markdown",
   "id": "bf9699f2-3c65-487e-a4b8-530e2890b07e",
   "metadata": {},
   "source": [
    "## Q3. Why is redirect() used in Flask?"
   ]
  },
  {
   "cell_type": "markdown",
   "id": "b55eb9d9-2b3d-4a03-b5d8-d5d95e6466ea",
   "metadata": {},
   "source": [
    "## Ans:"
   ]
  },
  {
   "cell_type": "markdown",
   "id": "64c2705b-063d-4520-8dea-b9e3f29b8b24",
   "metadata": {},
   "source": [
    "In Flask, the redirect() function is used to perform a redirection from one URL to another. It's a way to instruct the client's web browser to navigate to a different URL than the one originally requested. This functionality is often used for various purposes in web applications:"
   ]
  },
  {
   "cell_type": "markdown",
   "id": "8fd0e0f4-3d83-4c1b-a5cd-4cb3de73e8b9",
   "metadata": {},
   "source": [
    "1. Route Navigation: When a user interacts with our web application and performs an action that requires them to be taken to another page, we can use the redirect() function to send them to the appropriate URL. This helps maintain a smooth user experience and guides users through different parts of our application.\n",
    "\n",
    "2. POST-Redirect-GET (PRG) Pattern: The PRG pattern is a common practice in web development to avoid form resubmission. After processing a form submission using the POST method, we can redirect the user to a different URL using redirect(). This prevents users from accidentally resubmitting the form if they refresh the page.\n",
    "\n",
    "3. URL Consistency: We can use redirect() to ensure that users access pages using a consistent URL format. For example, if our web application has both \"http\" and \"https\" versions of a page, we can redirect users from one version to the other to ensure a uniform browsing experience.\n",
    "\n",
    "4. Authentication and Authorization: When users need to be authenticated or authorized to access certain pages, we can use redirect() to send unauthorized users to a login page or to a relevant error page.\n",
    "\n",
    "5. Changing URLs: If we have restructured our website's URLs or if our are performing a migration to a new version of our web application, we can use redirect() to handle backward compatibility and guide users to the new URLs."
   ]
  },
  {
   "cell_type": "markdown",
   "id": "f8844dbf-c813-47a4-a838-9f3b3ec48175",
   "metadata": {},
   "source": [
    "## Q4. What are templates in Flask? Why is the render_template() function used?"
   ]
  },
  {
   "cell_type": "markdown",
   "id": "bde44c72-09d9-4f77-a452-64c7e1b8eb19",
   "metadata": {},
   "source": [
    "## Ans:"
   ]
  },
  {
   "cell_type": "markdown",
   "id": "40fb66de-2d18-45d7-809d-1255b937ab34",
   "metadata": {},
   "source": [
    "In Flask, templates are used to dynamically generate HTML content for web pages. They separate the presentation logic (HTML) from the application logic (Python code) in our web application, following the principles of the Model-View-Controller (MVC) architecture. Templates allow us to create reusable structures for our web pages and populate them with dynamic data based on the contIn Flask, templates are used to generate dynamic HTML content for web applications. They allow you to separate the HTML structure from the Python code that generates the content, making it easier to maintain and organize your web application. Templates typically contain placeholders or variables that can be populated with dynamic data when the page is rendered.ext of each request."
   ]
  },
  {
   "cell_type": "markdown",
   "id": "fd7a8386-fcff-40df-b7a6-0ceef39f1608",
   "metadata": {},
   "source": [
    "The render_template() function in Flask is used to render templates and generate HTML responses for web pages. It is part of the Flask framework and serves several important purposes:\n",
    "\n",
    "1. Separation of Concerns: render_template() helps maintain the separation of concerns by keeping the HTML markup separate from your Python code. This separation makes it easier for developers to work on the frontend (HTML/CSS) and backend (Python) of a web application independently.\n",
    "\n",
    "2. Dynamic Content: Templates allow you to embed dynamic content into your web pages. You can pass data from your Python code to the template, and the template engine will replace placeholders with the actual data when rendering the HTML.\n",
    "\n",
    "3. Reusability: Templates can be reused across multiple routes or pages of your web application. This promotes code reusability and consistency in the design and layout of your site.\n",
    "\n",
    "Here's how templates work in Flask:\n",
    "\n",
    "1. Creating Templates: You create HTML templates that include placeholders for dynamic data. These placeholders are usually enclosed in double curly braces, like {{ variable_name }}. You can also use control structures like loops and conditionals within templates.\n",
    "\n",
    "2. Passing Data: In your Flask routes, you gather data from your application or database and pass it to the template. This data can be variables, lists, dictionaries, etc., which you can use to fill in the placeholders in the template.\n",
    "\n",
    "3. Rendering Templates: When a client's request is processed by a route, you use the render_template() function to render the HTML template. This function combines the template with the data you provided, replacing placeholders with actual values, and generates a complete HTML page.\n",
    "\n",
    "4. Sending Response: The HTML page generated by the render_template() function is then sent as a response to the client's request, displaying the dynamically generated content."
   ]
  },
  {
   "cell_type": "markdown",
   "id": "968e9b17-6e72-4678-83bc-550d45d3ff33",
   "metadata": {},
   "source": [
    "Here's a basic example demonstrating how to use templates and the render_template() function in Flask:\n",
    "\n",
    "Assume we have a template named \"index.html\":"
   ]
  },
  {
   "cell_type": "code",
   "execution_count": null,
   "id": "9497172b-4b05-4682-a137-3797829c4427",
   "metadata": {},
   "outputs": [],
   "source": [
    "<!DOCTYPE html>\n",
    "<html>\n",
    "<head>\n",
    "    <title>{{ title }}</title>\n",
    "</head>\n",
    "<body>\n",
    "    <h1>Welcome to {{ title }}</h1>\n",
    "    <p>This is a {{ description }}.</p>\n",
    "</body>\n",
    "</html>"
   ]
  },
  {
   "cell_type": "markdown",
   "id": "6754f081-6966-4df5-8379-6e8f79d83a4b",
   "metadata": {},
   "source": [
    "And a Flask app:"
   ]
  },
  {
   "cell_type": "code",
   "execution_count": null,
   "id": "38eed3e4-377b-4c1c-b7bb-ad616c5e6ddf",
   "metadata": {},
   "outputs": [],
   "source": [
    "from flask import Flask, render_template\n",
    "\n",
    "app = Flask(__name__)\n",
    "\n",
    "@app.route('/')\n",
    "def index():\n",
    "    data = {\n",
    "        'title': 'Flask Templates',\n",
    "        'description': 'tutorial on using templates'\n",
    "    }\n",
    "    return render_template('index.html', **data)"
   ]
  },
  {
   "cell_type": "markdown",
   "id": "85656a51-8ed5-4b11-83f4-58aeb3f95302",
   "metadata": {},
   "source": [
    "In this example, when a user visits the root URL (\"/\"), the index() function passes data (title and description) to the \"index.html\" template using the render_template() function. The template is then rendered with the provided data, generating an HTML page that is sent as the response.\n",
    "\n",
    "The render_template() function simplifies the process of combining dynamic data with HTML templates, making it easier to create dynamic and interactive web pages in Flask applications."
   ]
  },
  {
   "cell_type": "markdown",
   "id": "087e0e27-2e52-4a6c-9732-c85d83205b62",
   "metadata": {},
   "source": [
    "## Q5. Create a simple API. Use Postman to test it. Attach the screenshot of the output in the Jupyter Notebook."
   ]
  },
  {
   "cell_type": "markdown",
   "id": "f7e4b8c5-186a-42d7-8316-4d2f22fed0bf",
   "metadata": {},
   "source": [
    "## Ans:"
   ]
  },
  {
   "cell_type": "code",
   "execution_count": null,
   "id": "6ffe464e-de3b-4d30-8369-18b1d738ef4e",
   "metadata": {},
   "outputs": [],
   "source": []
  }
 ],
 "metadata": {
  "kernelspec": {
   "display_name": "Python 3 (ipykernel)",
   "language": "python",
   "name": "python3"
  },
  "language_info": {
   "codemirror_mode": {
    "name": "ipython",
    "version": 3
   },
   "file_extension": ".py",
   "mimetype": "text/x-python",
   "name": "python",
   "nbconvert_exporter": "python",
   "pygments_lexer": "ipython3",
   "version": "3.10.8"
  }
 },
 "nbformat": 4,
 "nbformat_minor": 5
}
