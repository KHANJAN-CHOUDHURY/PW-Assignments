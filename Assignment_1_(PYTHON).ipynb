{
 "cells": [
  {
   "cell_type": "markdown",
   "id": "7916e74f-eb86-46cd-9504-a9d6879e85ba",
   "metadata": {},
   "source": [
    "# Basics of Python"
   ]
  },
  {
   "cell_type": "markdown",
   "id": "942f8473-1994-4809-bcae-6f62cc84180b",
   "metadata": {},
   "source": [
    "### Q1. Create one variable containing following type of data: \n",
    "### (i) string \n",
    "### (ii) list \n",
    "### (iii) float \n",
    "### (iv) tuple"
   ]
  },
  {
   "cell_type": "markdown",
   "id": "746658ff-675e-4f29-b77b-f69837068edf",
   "metadata": {},
   "source": [
    "## Ans:"
   ]
  },
  {
   "cell_type": "code",
   "execution_count": 1,
   "id": "d3e8de73-ef90-41e9-bb55-35440709878f",
   "metadata": {},
   "outputs": [],
   "source": [
    "# (i) String\n",
    "a = 'PW Data Science'\n",
    "# (ii) List\n",
    "b = [1,2,3,4]\n",
    "# (iii) Float\n",
    "c = 3.145\n",
    "# (iv) Tuple\n",
    "d = (1,2,3)\n",
    "\n",
    "# Variable that contains all the above datatype:\n",
    "# 1st element is a string\n",
    "# 2nd element is a list\n",
    "# 3rd element is a float\n",
    "# 4th element is a tuple\n",
    "e = ['PW',[1,2,3],3.145,(1,2,3)] "
   ]
  },
  {
   "cell_type": "code",
   "execution_count": 2,
   "id": "2a1c4972-9dbf-4747-85d0-ae8b209db8ea",
   "metadata": {},
   "outputs": [
    {
     "name": "stdout",
     "output_type": "stream",
     "text": [
      "a =  PW Data Science\n",
      "b =  [1, 2, 3, 4]\n",
      "c =  3.145\n",
      "d =  (1, 2, 3)\n",
      "e =  ['PW', [1, 2, 3], 3.145, (1, 2, 3)]\n"
     ]
    }
   ],
   "source": [
    "print('a = ',a)\n",
    "print('b = ',b)\n",
    "print('c = ',c)\n",
    "print('d = ',d)\n",
    "print('e = ',e)"
   ]
  },
  {
   "cell_type": "markdown",
   "id": "f0f91286-627d-48ab-b9c4-b369480337c0",
   "metadata": {},
   "source": [
    "## Q2. Given are some following variables containing data: \n",
    "## (i) var1 = ' ' \n",
    "## (ii) var2 = '[ DS , ML , Python]' \n",
    "## (iii) var3 = [ ‘DS’ , ’ML’ , ‘Python’ ] \n",
    "## (iv) var4 = 1. \n",
    "## What will be the data type of the above given variable."
   ]
  },
  {
   "cell_type": "markdown",
   "id": "525f58ba-7846-4b9b-89f0-2b5b934480d7",
   "metadata": {},
   "source": [
    "## Ans: \n",
    "## (i) Empty string \n",
    "## (ii) string \n",
    "## (iii) list \n",
    "## (iv) float"
   ]
  },
  {
   "cell_type": "markdown",
   "id": "086e23be-4e81-4fc6-805d-463796083166",
   "metadata": {},
   "source": [
    "## Q3. Explain the use of the following operators using an example:\n",
    "## (i) /\n",
    "## (ii) %\n",
    "## (iii) //\n",
    "## (iv) **"
   ]
  },
  {
   "cell_type": "markdown",
   "id": "e58d61a5-cf5c-4474-aca3-6ae779cd7be8",
   "metadata": {},
   "source": [
    "## Ans:"
   ]
  },
  {
   "cell_type": "markdown",
   "id": "958ff683-da00-4c75-a9a2-d5c0a5458995",
   "metadata": {},
   "source": [
    "## (i) / :-- It is a division operator. Use to divide two number.\n",
    "## 7/2 will give 3.5"
   ]
  },
  {
   "cell_type": "code",
   "execution_count": 3,
   "id": "5a96c4eb-ffe7-4f54-b38b-a4f5c0a738e6",
   "metadata": {},
   "outputs": [
    {
     "data": {
      "text/plain": [
       "3.5"
      ]
     },
     "execution_count": 3,
     "metadata": {},
     "output_type": "execute_result"
    }
   ],
   "source": [
    "7/2"
   ]
  },
  {
   "cell_type": "markdown",
   "id": "1aac652b-4c74-47ea-a462-f4bbfd041bce",
   "metadata": {},
   "source": [
    "## (ii) % :-- It is modulus operator. Gives remainder after division operation. Eg:\n",
    "## 7%2 then remainder will be 1"
   ]
  },
  {
   "cell_type": "code",
   "execution_count": 4,
   "id": "2e884886-7d95-47ed-a731-2028fab1cb38",
   "metadata": {},
   "outputs": [
    {
     "data": {
      "text/plain": [
       "1"
      ]
     },
     "execution_count": 4,
     "metadata": {},
     "output_type": "execute_result"
    }
   ],
   "source": [
    "7%2"
   ]
  },
  {
   "cell_type": "markdown",
   "id": "b41dd27b-9ee2-45d9-82d7-0e6a98ab7a10",
   "metadata": {},
   "source": [
    "## (iii)// :-- Floor division operator. It can be used to divide two numbers and get the result in which the quotient is rounded down to the nearest integer value. Eg: \n",
    "## 7//2 will give 3"
   ]
  },
  {
   "cell_type": "code",
   "execution_count": 6,
   "id": "420e4a8c-0f59-434a-af4a-1280d5b72353",
   "metadata": {},
   "outputs": [
    {
     "data": {
      "text/plain": [
       "3"
      ]
     },
     "execution_count": 6,
     "metadata": {},
     "output_type": "execute_result"
    }
   ],
   "source": [
    "7//2"
   ]
  },
  {
   "cell_type": "markdown",
   "id": "b96cd891-c8ea-49f9-aedb-756384172bd3",
   "metadata": {},
   "source": [
    "## (iv) ** :-- Exponentiation operator. Gives exponential value.\n",
    "## 7**2 will give 49"
   ]
  },
  {
   "cell_type": "code",
   "execution_count": 7,
   "id": "8bee91b0-4f74-4ea6-945f-746790437737",
   "metadata": {},
   "outputs": [
    {
     "data": {
      "text/plain": [
       "49"
      ]
     },
     "execution_count": 7,
     "metadata": {},
     "output_type": "execute_result"
    }
   ],
   "source": [
    "7**2"
   ]
  },
  {
   "cell_type": "markdown",
   "id": "a7a10340-6b5b-4974-84c0-18aff793d801",
   "metadata": {},
   "source": [
    "## Q4. Create a list of length 10 of your choice containing multiple types of data. Using for loop print the element and its data type."
   ]
  },
  {
   "cell_type": "markdown",
   "id": "d703ab1f-0ec4-4f0e-b8ea-ec54d6cbbc75",
   "metadata": {},
   "source": [
    "## Ans:"
   ]
  },
  {
   "cell_type": "code",
   "execution_count": 8,
   "id": "3b986b6b-e606-4e95-8aec-a68c99254263",
   "metadata": {},
   "outputs": [
    {
     "name": "stdout",
     "output_type": "stream",
     "text": [
      "56 : Type --> <class 'int'>\n",
      "3.145 : Type --> <class 'float'>\n",
      "Khanjan : Type --> <class 'str'>\n",
      "(3+4j) : Type --> <class 'complex'>\n",
      "[1, 2, 3] : Type --> <class 'list'>\n",
      "(1, 2, 3) : Type --> <class 'tuple'>\n"
     ]
    }
   ],
   "source": [
    "lst = [56, 3.145, 'Khanjan', (3+4j), [1,2,3],(1,2,3)]\n",
    "for element in lst:\n",
    "    print(element,': Type -->', type(element))"
   ]
  },
  {
   "cell_type": "markdown",
   "id": "36de3566-609c-42eb-bf99-37eb6a0a68c2",
   "metadata": {},
   "source": [
    "## Q5. Using a while loop, verify if the number A is purely divisible by number B and if so then how many times it can be divisible."
   ]
  },
  {
   "cell_type": "markdown",
   "id": "93ef2b12-9fd7-4af6-9e35-03f54e7103f9",
   "metadata": {},
   "source": [
    "## Ans:"
   ]
  },
  {
   "cell_type": "code",
   "execution_count": 13,
   "id": "f90faaad-5403-448a-a463-c12351555c04",
   "metadata": {},
   "outputs": [
    {
     "name": "stdin",
     "output_type": "stream",
     "text": [
      "Enter the number for A: 7\n",
      "Enter the number for B: 2\n"
     ]
    },
    {
     "name": "stdout",
     "output_type": "stream",
     "text": [
      "A is not purely divisible by B\n"
     ]
    }
   ],
   "source": [
    "A = int(input('Enter the number for A:'))\n",
    "C = A\n",
    "B = int(input('Enter the number for B:'))\n",
    "count = 0\n",
    "if C % B == 0:\n",
    "    while C >= B:\n",
    "        count += 1\n",
    "        C -= B    \n",
    "    print('A is purely divisible by B ',count,'times.')\n",
    "else:\n",
    "    print('A is not purely divisible by B.')\n",
    "        "
   ]
  },
  {
   "cell_type": "markdown",
   "id": "93d95f44-6ad4-4f5a-8d80-eaffce0c963a",
   "metadata": {},
   "source": [
    "## Q6. Create a list containing 25 int type data. Using for loop and if-else condition print if the element is divisible by 3 or not."
   ]
  },
  {
   "cell_type": "markdown",
   "id": "e55624be-cb02-4018-a663-cf316177a3ee",
   "metadata": {},
   "source": [
    "## Ans:"
   ]
  },
  {
   "cell_type": "code",
   "execution_count": 19,
   "id": "50a0559a-7ab2-4ac7-bae4-f6a34cb84149",
   "metadata": {},
   "outputs": [
    {
     "name": "stdin",
     "output_type": "stream",
     "text": [
      "Enter the number of values to generated: 25\n"
     ]
    },
    {
     "name": "stdout",
     "output_type": "stream",
     "text": [
      "1  is not divisible by 3.\n",
      "2  is not divisible by 3.\n",
      "3  is divisible by 3.\n",
      "4  is not divisible by 3.\n",
      "5  is not divisible by 3.\n",
      "6  is divisible by 3.\n",
      "7  is not divisible by 3.\n",
      "8  is not divisible by 3.\n",
      "9  is divisible by 3.\n",
      "10  is not divisible by 3.\n",
      "11  is not divisible by 3.\n",
      "12  is divisible by 3.\n",
      "13  is not divisible by 3.\n",
      "14  is not divisible by 3.\n",
      "15  is divisible by 3.\n",
      "16  is not divisible by 3.\n",
      "17  is not divisible by 3.\n",
      "18  is divisible by 3.\n",
      "19  is not divisible by 3.\n",
      "20  is not divisible by 3.\n",
      "21  is divisible by 3.\n",
      "22  is not divisible by 3.\n",
      "23  is not divisible by 3.\n",
      "24  is divisible by 3.\n",
      "25  is not divisible by 3.\n"
     ]
    }
   ],
   "source": [
    "lst1 = []\n",
    "n = int(input('Enter the number of values to generated:'))\n",
    "for i in range(1,n+1):\n",
    "    lst1.append(i)\n",
    "for ele in lst1:\n",
    "    if ele % 3 == 0:\n",
    "        print(ele,' is divisible by 3.')\n",
    "    else:\n",
    "        print(ele,' is not divisible by 3.')"
   ]
  },
  {
   "cell_type": "markdown",
   "id": "c320041b-7947-498a-a8dc-8dc139f8e791",
   "metadata": {},
   "source": [
    "## Q7. What do you understand about mutable and immutable data types? Give examples for both showing this property."
   ]
  },
  {
   "cell_type": "markdown",
   "id": "8af1d9ab-210c-4541-bc53-34d97c098d37",
   "metadata": {},
   "source": [
    "## Ans:"
   ]
  },
  {
   "cell_type": "markdown",
   "id": "be3d979d-43c2-487d-873e-d97ba77afaf5",
   "metadata": {},
   "source": [
    "### Mutable data type"
   ]
  },
  {
   "cell_type": "markdown",
   "id": "5f5ce754-67c1-440a-acb2-7696536664f2",
   "metadata": {},
   "source": [
    "A mutable data type in programming refers to an object or data structure whose contents can be modified after it has been created. This means that you can change the value of the object without needing to create a new instance of it. In Python, lists and dictionaries are examples of mutable data types. Eg."
   ]
  },
  {
   "cell_type": "code",
   "execution_count": 21,
   "id": "39c41e73-46b2-48d1-80c9-fffec3f17478",
   "metadata": {},
   "outputs": [
    {
     "data": {
      "text/plain": [
       "[1, 2, 9, 4]"
      ]
     },
     "execution_count": 21,
     "metadata": {},
     "output_type": "execute_result"
    }
   ],
   "source": [
    "list1 = [1, 2, 3, 4]\n",
    "list1[2] = 9\n",
    "list1"
   ]
  },
  {
   "cell_type": "code",
   "execution_count": null,
   "id": "fb004197-b892-4c48-91b7-549622a7526d",
   "metadata": {},
   "outputs": [],
   "source": [
    "### Mutable data type"
   ]
  },
  {
   "cell_type": "markdown",
   "id": "062e9f2f-880f-43c1-99a8-bf69f08c1260",
   "metadata": {},
   "source": [
    "An immutable data type in programming refers to an object or data structure whose contents cannot be changed after it has been created. Once an immutable object is created, its value cannot be modified. In Python, examples of immutable data types include strings, integers, and tuples."
   ]
  }
 ],
 "metadata": {
  "kernelspec": {
   "display_name": "Python 3 (ipykernel)",
   "language": "python",
   "name": "python3"
  },
  "language_info": {
   "codemirror_mode": {
    "name": "ipython",
    "version": 3
   },
   "file_extension": ".py",
   "mimetype": "text/x-python",
   "name": "python",
   "nbconvert_exporter": "python",
   "pygments_lexer": "ipython3",
   "version": "3.10.8"
  }
 },
 "nbformat": 4,
 "nbformat_minor": 5
}
