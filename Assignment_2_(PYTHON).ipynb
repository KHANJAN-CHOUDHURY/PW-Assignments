{
 "cells": [
  {
   "cell_type": "markdown",
   "id": "e45b61c1-ddb7-4a2b-8d09-53034181fe3a",
   "metadata": {},
   "source": [
    "# Python data structures"
   ]
  },
  {
   "cell_type": "markdown",
   "id": "189379db-02c6-4281-b779-622790721136",
   "metadata": {},
   "source": [
    "## Q1. How do you comment code in Python? What are the different types of comments?"
   ]
  },
  {
   "cell_type": "markdown",
   "id": "f84b86c3-37e7-4adb-8ddd-5e7b50b88922",
   "metadata": {},
   "source": [
    "## Ans:"
   ]
  },
  {
   "cell_type": "markdown",
   "id": "3507c653-1b22-4998-a9cd-4cea83c85b37",
   "metadata": {},
   "source": [
    "We generally use '#' symbol for single line comment and triple quote (\"\"\" \"\"\") symbol for multi-line comment.\\\n",
    "The different types of comments are: \\\n",
    "(i) Single Line Comments:These are used for adding comments on a single line.Eg."
   ]
  },
  {
   "cell_type": "code",
   "execution_count": 4,
   "id": "8b9d2da6-6e12-4b37-9e29-d03c2b95639a",
   "metadata": {},
   "outputs": [
    {
     "name": "stdout",
     "output_type": "stream",
     "text": [
      "Hello\n"
     ]
    }
   ],
   "source": [
    "# First code\n",
    "print('Hello')"
   ]
  },
  {
   "cell_type": "markdown",
   "id": "8e654585-4f9d-4b0d-8840-04ff9f3b8e57",
   "metadata": {},
   "source": [
    "(ii) Multi-line comments (docstrings): These are used for adding comments that span multiple lines, often used for documenting functions, classes, and modules. While not true multi-line comment syntax like some other languages, Python uses triple-quotes to create multi-line strings (also known as docstrings) which are often used for documentation. Eg."
   ]
  },
  {
   "cell_type": "code",
   "execution_count": 3,
   "id": "32411926-1e21-4c8d-b51b-2e8c9ca4bafa",
   "metadata": {},
   "outputs": [
    {
     "name": "stdout",
     "output_type": "stream",
     "text": [
      "Hello\n"
     ]
    }
   ],
   "source": [
    "\"\"\"\n",
    "This is a multi-line comment.\n",
    "It can span multiple lines and is often used for documentation.\n",
    "\"\"\"\n",
    "print('Hello')"
   ]
  },
  {
   "cell_type": "markdown",
   "id": "6d20eea1-3ae4-42e1-87e7-ca94171e24c9",
   "metadata": {},
   "source": [
    "## Q2. What are variables in Python? How do you declare and assign values to variables?"
   ]
  },
  {
   "cell_type": "markdown",
   "id": "8eb19622-0c5c-463c-8cf7-fbc86c017319",
   "metadata": {},
   "source": [
    "## Ans:"
   ]
  },
  {
   "cell_type": "markdown",
   "id": "68d61f98-f620-48d4-8364-7f1ad8eb73f1",
   "metadata": {},
   "source": [
    "An variable or identifier used to store and refer to data values in a programme is called a variable in Python. We may use and alter that value throughout your code since it serves as a container that houses a value. In order to store data that will be utilised later in the execution of the programme, variables are provided.\\\n",
    "Based on different types of data the variables are declared and assigned in followng way:"
   ]
  },
  {
   "cell_type": "code",
   "execution_count": 5,
   "id": "7a5df56d-f8f2-4a4e-867c-08c8a21dd5e5",
   "metadata": {},
   "outputs": [],
   "source": [
    "a = 10 # Variable 'a' has stored interger number\n",
    "b = 10.5 # Variable 'b' has stored floating number\n",
    "c = 3+44j # Variable has 'c' stored comples number\n",
    "d = 'Khanjan' # Variable 'd' has stored string\n",
    "e = ['Khanjan', 'Choudhury',25] # Variable 'e' has stored list etc."
   ]
  },
  {
   "cell_type": "markdown",
   "id": "e239a9b5-c5bc-4b5e-b99e-71c8127278bf",
   "metadata": {},
   "source": [
    "## Q3. How do you convert one data type to another in Python?"
   ]
  },
  {
   "cell_type": "markdown",
   "id": "5f32639d-662c-48c9-b27e-57c8aa2da091",
   "metadata": {},
   "source": [
    "## Ans:"
   ]
  },
  {
   "cell_type": "markdown",
   "id": "89bd2399-c043-45f2-b682-e9f331ac7c6d",
   "metadata": {},
   "source": [
    "In python one datatype is convert to other datatype mostly by using converting functions or type casting functions. Besides this there are other methods convert datatype from one other. Below all these are discussed: \n",
    "1. Using Type casting Functions: \\\n",
    "Some of the Type casting functions are:\\\n",
    "int(), float(), str(), bool(), list(), tuple(), set()"
   ]
  },
  {
   "cell_type": "code",
   "execution_count": 8,
   "id": "cd0954ee-8d4c-486f-a5fa-89447204c4cd",
   "metadata": {},
   "outputs": [
    {
     "name": "stdout",
     "output_type": "stream",
     "text": [
      "<class 'int'>\n",
      "<class 'float'>\n"
     ]
    }
   ],
   "source": [
    "num_str = \"42\"\n",
    "num_int = int(num_str)     # Converts string to integer\n",
    "num_float = float(num_str) # Converts string to float\n",
    "print(type(num_int))\n",
    "print(type(num_float))"
   ]
  },
  {
   "cell_type": "markdown",
   "id": "ddaefc45-4e04-4931-bdf6-b3e5577ad475",
   "metadata": {},
   "source": [
    "Converting string to number can happen only when string contains only number."
   ]
  },
  {
   "cell_type": "code",
   "execution_count": 9,
   "id": "933b0e1d-230f-4edf-ac1f-ef6c6c58979d",
   "metadata": {},
   "outputs": [
    {
     "name": "stdout",
     "output_type": "stream",
     "text": [
      "<class 'tuple'>\n",
      "<class 'set'>\n"
     ]
    }
   ],
   "source": [
    "my_list = [1, 2, 3]\n",
    "my_tuple = tuple(my_list) # Converts list to tuple\n",
    "my_set = set(my_list)     # Converts list to set\n",
    "print(type(my_tuple))\n",
    "print(type(my_set))"
   ]
  },
  {
   "cell_type": "markdown",
   "id": "7e4d1f8f-69c1-4df9-a35f-70e4fce6d23d",
   "metadata": {},
   "source": [
    "2. Implicit Type Conversion (Type Coercion): When performing operations involving different data types, Python automatically converts them to a common type."
   ]
  },
  {
   "cell_type": "code",
   "execution_count": 10,
   "id": "3c9731de-31e1-4e74-b5e1-ce2a0a79a6d8",
   "metadata": {},
   "outputs": [
    {
     "data": {
      "text/plain": [
       "float"
      ]
     },
     "execution_count": 10,
     "metadata": {},
     "output_type": "execute_result"
    }
   ],
   "source": [
    "result = 5 + 2.0  # The integer 5 is implicitly converted to a float before addition\n",
    "type(result)"
   ]
  },
  {
   "cell_type": "markdown",
   "id": "c95b4822-0832-48b7-8f16-bfd0f6a5af98",
   "metadata": {},
   "source": [
    "3. Casting with 'str.format()' or f-strings: We can use string formatting or f-strings to convert non-string values to strings for concatenation in output strings."
   ]
  },
  {
   "cell_type": "code",
   "execution_count": 11,
   "id": "f3e848cb-4163-449f-b993-fd8b8dc85088",
   "metadata": {},
   "outputs": [
    {
     "name": "stdout",
     "output_type": "stream",
     "text": [
      "<class 'str'>\n",
      "<class 'str'>\n"
     ]
    }
   ],
   "source": [
    "num = 42\n",
    "result_str = \"The number is: \" + str(num)  # Converts integer to string explicitly\n",
    "result_fstring = f\"The number is: {num}\"   # Converts integer to string using f-string\n",
    "print(type(result_str))\n",
    "print(type(result_fstring))"
   ]
  },
  {
   "cell_type": "markdown",
   "id": "58e8fb85-2a42-4497-af75-a599895e3cb6",
   "metadata": {},
   "source": [
    "4. Conversion with Built-in Constructors: There are constructors for many data types that may be used to turn other data types into objects of that type. For instance, we may use the list() constructor to produce a list from a string."
   ]
  },
  {
   "cell_type": "code",
   "execution_count": 12,
   "id": "60c8cfaa-1e0c-405b-bdf8-b6ddf69cf328",
   "metadata": {},
   "outputs": [
    {
     "name": "stdout",
     "output_type": "stream",
     "text": [
      "['H', 'e', 'l', 'l', 'o']\n",
      "<class 'list'>\n"
     ]
    }
   ],
   "source": [
    "my_string = \"Hello\"\n",
    "my_list = list(my_string)  # Converts string to list\n",
    "print(my_list)\n",
    "print(type(my_list))"
   ]
  },
  {
   "cell_type": "markdown",
   "id": "24878ee1-96ad-4ab3-8b1b-ec288515afce",
   "metadata": {},
   "source": [
    "## Q4. How do you write and execute a Python script from the command line?"
   ]
  },
  {
   "cell_type": "markdown",
   "id": "dd2fbe49-5cd2-4611-9794-4cd26ce319da",
   "metadata": {},
   "source": [
    "## Ans:"
   ]
  },
  {
   "cell_type": "markdown",
   "id": "aa28258d-28b7-4c2b-a657-10e9c3b20d74",
   "metadata": {},
   "source": [
    "We have to use following steps to write and execute a Python script from command line."
   ]
  },
  {
   "cell_type": "markdown",
   "id": "1e830eb9-f25c-4b1e-94a4-3e3f1028d03b",
   "metadata": {},
   "source": [
    "1. Write a Python Script: \\\n",
    "We have to open a text editor (such as Notepad, Visual Studio Code) and write Python code. Then we have to save the file with a '.py' extension, which indicates that it's a Python script. For example, you could save it as 'Khanjan.py'"
   ]
  },
  {
   "cell_type": "markdown",
   "id": "cf053eca-1484-4928-981e-da6884edb32a",
   "metadata": {},
   "source": [
    "2. Open a Command Line Interface: \\\n",
    "You can use the Command Prompt or PowerShell on Windows."
   ]
  },
  {
   "cell_type": "markdown",
   "id": "6c119157-0cfc-4c05-9e7c-3d724c682dd4",
   "metadata": {},
   "source": [
    "3. Navigate to the Script's Directory: \\\n",
    "We have to navigate to the directory where our Python script is saved Use the 'cd' command. \n",
    "Eg.  cd path/to/the/python/script"
   ]
  },
  {
   "cell_type": "markdown",
   "id": "c583f5f3-7474-4a3a-b59f-5a2efed68973",
   "metadata": {},
   "source": [
    "4. Execute the Script: \\\n",
    "To execute the Python script, we need to use the python command followed by the script's filename. On some systems, we might need to use python3 instead of python to ensure we are using Python 3.x. Eg. python3 Khanjan.py"
   ]
  },
  {
   "cell_type": "markdown",
   "id": "8064bec5-d5b7-4a34-8c0b-2e588640e3f1",
   "metadata": {},
   "source": [
    "## Q5. Given a list my_list = [1, 2, 3, 4, 5], write the code to slice the list and obtain the sub-list [2, 3]."
   ]
  },
  {
   "cell_type": "markdown",
   "id": "3a8978fa-edd2-4ce3-81b5-5dd44a88dfca",
   "metadata": {},
   "source": [
    "## Ans:"
   ]
  },
  {
   "cell_type": "code",
   "execution_count": 14,
   "id": "792751d0-6b08-479a-8e2b-d1b1a7b6aecb",
   "metadata": {},
   "outputs": [
    {
     "name": "stdout",
     "output_type": "stream",
     "text": [
      "lst: [2, 3]\n"
     ]
    }
   ],
   "source": [
    "my_list = [1,2,3,4,5]\n",
    "lst = my_list[1:3]\n",
    "print('lst:',lst)"
   ]
  },
  {
   "cell_type": "markdown",
   "id": "837a4e40-1b49-4de8-b3f4-4b2e8f4cb54f",
   "metadata": {},
   "source": [
    "## Q6. What is a complex number in mathematics, and how is it represented in Python?"
   ]
  },
  {
   "cell_type": "markdown",
   "id": "1cee9d22-235f-4bb9-b5fa-b984385d6a58",
   "metadata": {},
   "source": [
    "## Ans:"
   ]
  },
  {
   "cell_type": "markdown",
   "id": "7f5d9223-f3bc-48d2-9367-f8bf7d357274",
   "metadata": {},
   "source": [
    "In mathematics, a complex number is a number that comprises both a real part and an imaginary part. Complex numbers are an extension of the real numbers and are used to represent quantities that involve both real quantities and imaginary quantities. It represented in Python as follows: 3+4j"
   ]
  },
  {
   "cell_type": "markdown",
   "id": "987ed7b0-9ca2-4887-9fd3-41182b10188d",
   "metadata": {},
   "source": [
    "## Q7. What is the correct way to declare a variable named age and assign the value 25 to it?"
   ]
  },
  {
   "cell_type": "markdown",
   "id": "3a6df3b7-6124-4806-9011-70fe1878483d",
   "metadata": {},
   "source": [
    "## Ans:"
   ]
  },
  {
   "cell_type": "code",
   "execution_count": 15,
   "id": "747faad5-51e9-4331-8252-152372011acc",
   "metadata": {},
   "outputs": [],
   "source": [
    "age = 25"
   ]
  },
  {
   "cell_type": "markdown",
   "id": "cb132c57-6803-4629-8496-3950a25ace47",
   "metadata": {},
   "source": [
    "## Q8. Declare a variable named price and assign the value 9.99 to it. What data type does this variable belong to?"
   ]
  },
  {
   "cell_type": "markdown",
   "id": "477a490a-25f7-4925-9ff9-66dc182ffdef",
   "metadata": {},
   "source": [
    "## Ans:"
   ]
  },
  {
   "cell_type": "code",
   "execution_count": 16,
   "id": "7d3bd8e7-7a4d-4255-a3a7-a2e3da848f12",
   "metadata": {},
   "outputs": [],
   "source": [
    "price = 9.99"
   ]
  },
  {
   "cell_type": "markdown",
   "id": "2b63bfd7-4e36-4387-8e4a-923a7d83b1c9",
   "metadata": {},
   "source": [
    "The data type this variable belongs to is: Float"
   ]
  },
  {
   "cell_type": "markdown",
   "id": "bd1f9ed9-a23d-45f6-ac53-cc7d3c70beee",
   "metadata": {},
   "source": [
    "## Q9. Create a variable named name and assign your full name to it as a string. How would you print the value of this variable?"
   ]
  },
  {
   "cell_type": "markdown",
   "id": "ed252464-1dbb-497d-ac7f-a530b24a62dd",
   "metadata": {},
   "source": [
    "## Ans:"
   ]
  },
  {
   "cell_type": "code",
   "execution_count": 17,
   "id": "bcb1c1f9-1745-468a-826f-61c36c42046e",
   "metadata": {},
   "outputs": [
    {
     "name": "stdout",
     "output_type": "stream",
     "text": [
      "Khanjan Choudhury\n"
     ]
    }
   ],
   "source": [
    "name = 'Khanjan Choudhury'\n",
    "print(name)"
   ]
  },
  {
   "cell_type": "markdown",
   "id": "2c42dcd8-3c1b-49f1-85cf-6a8e31283896",
   "metadata": {},
   "source": [
    "## Q10. Given the string \"Hello, World!\", extract the substring \"World\"."
   ]
  },
  {
   "cell_type": "markdown",
   "id": "a28256de-9f61-494d-87ac-620028c9ad74",
   "metadata": {},
   "source": [
    "## Ans:"
   ]
  },
  {
   "cell_type": "code",
   "execution_count": null,
   "id": "7663e40d-520b-437c-8c88-319b18df3a38",
   "metadata": {},
   "outputs": [],
   "source": [
    "a = 'Hello, World'\n",
    "print"
   ]
  }
 ],
 "metadata": {
  "kernelspec": {
   "display_name": "Python 3 (ipykernel)",
   "language": "python",
   "name": "python3"
  },
  "language_info": {
   "codemirror_mode": {
    "name": "ipython",
    "version": 3
   },
   "file_extension": ".py",
   "mimetype": "text/x-python",
   "name": "python",
   "nbconvert_exporter": "python",
   "pygments_lexer": "ipython3",
   "version": "3.10.8"
  }
 },
 "nbformat": 4,
 "nbformat_minor": 5
}
